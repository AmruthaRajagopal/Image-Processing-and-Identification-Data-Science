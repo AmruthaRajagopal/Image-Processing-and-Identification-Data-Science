{
 "cells": [
  {
   "cell_type": "markdown",
   "metadata": {},
   "source": [
    "<h1 align='center' style=\"color: blue;\">MNIST - Image Processing and Identification\n",
    "</h1>"
   ]
  },
  {
   "cell_type": "markdown",
   "metadata": {},
   "source": [
    "Fashion MNIST dataset includes tiny images of fashion pieces. The objective is to create a set of supervised learning models that can predict the type of item based on its image. "
   ]
  },
  {
   "cell_type": "markdown",
   "metadata": {},
   "source": [
    "To load the dataset, installed `tensorflow V2`. "
   ]
  },
  {
   "cell_type": "code",
   "execution_count": 1,
   "metadata": {},
   "outputs": [
    {
     "name": "stdout",
     "output_type": "stream",
     "text": [
      "Requirement already satisfied: tensorflow in /Users/ammu/Desktop/anaconda3/lib/python3.9/site-packages (2.8.0)\n",
      "Requirement already satisfied: gast>=0.2.1 in /Users/ammu/Desktop/anaconda3/lib/python3.9/site-packages (from tensorflow) (0.5.3)\n",
      "Requirement already satisfied: wrapt>=1.11.0 in /Users/ammu/Desktop/anaconda3/lib/python3.9/site-packages (from tensorflow) (1.12.1)\n",
      "Requirement already satisfied: tf-estimator-nightly==2.8.0.dev2021122109 in /Users/ammu/Desktop/anaconda3/lib/python3.9/site-packages (from tensorflow) (2.8.0.dev2021122109)\n",
      "Requirement already satisfied: keras<2.9,>=2.8.0rc0 in /Users/ammu/Desktop/anaconda3/lib/python3.9/site-packages (from tensorflow) (2.8.0)\n",
      "Requirement already satisfied: h5py>=2.9.0 in /Users/ammu/Desktop/anaconda3/lib/python3.9/site-packages (from tensorflow) (3.2.1)\n",
      "Requirement already satisfied: opt-einsum>=2.3.2 in /Users/ammu/Desktop/anaconda3/lib/python3.9/site-packages (from tensorflow) (3.3.0)\n",
      "Requirement already satisfied: tensorflow-io-gcs-filesystem>=0.23.1 in /Users/ammu/Desktop/anaconda3/lib/python3.9/site-packages (from tensorflow) (0.24.0)\n",
      "Requirement already satisfied: numpy>=1.20 in /Users/ammu/Desktop/anaconda3/lib/python3.9/site-packages (from tensorflow) (1.20.3)\n",
      "Requirement already satisfied: google-pasta>=0.1.1 in /Users/ammu/Desktop/anaconda3/lib/python3.9/site-packages (from tensorflow) (0.2.0)\n",
      "Requirement already satisfied: protobuf>=3.9.2 in /Users/ammu/Desktop/anaconda3/lib/python3.9/site-packages (from tensorflow) (3.19.4)\n",
      "Requirement already satisfied: flatbuffers>=1.12 in /Users/ammu/Desktop/anaconda3/lib/python3.9/site-packages (from tensorflow) (2.0)\n",
      "Requirement already satisfied: keras-preprocessing>=1.1.1 in /Users/ammu/Desktop/anaconda3/lib/python3.9/site-packages (from tensorflow) (1.1.2)\n",
      "Requirement already satisfied: astunparse>=1.6.0 in /Users/ammu/Desktop/anaconda3/lib/python3.9/site-packages (from tensorflow) (1.6.3)\n",
      "Requirement already satisfied: six>=1.12.0 in /Users/ammu/Desktop/anaconda3/lib/python3.9/site-packages (from tensorflow) (1.16.0)\n",
      "Requirement already satisfied: absl-py>=0.4.0 in /Users/ammu/Desktop/anaconda3/lib/python3.9/site-packages (from tensorflow) (1.0.0)\n",
      "Requirement already satisfied: setuptools in /Users/ammu/Desktop/anaconda3/lib/python3.9/site-packages (from tensorflow) (58.0.4)\n",
      "Requirement already satisfied: tensorboard<2.9,>=2.8 in /Users/ammu/Desktop/anaconda3/lib/python3.9/site-packages (from tensorflow) (2.8.0)\n",
      "Requirement already satisfied: libclang>=9.0.1 in /Users/ammu/Desktop/anaconda3/lib/python3.9/site-packages (from tensorflow) (13.0.0)\n",
      "Requirement already satisfied: termcolor>=1.1.0 in /Users/ammu/Desktop/anaconda3/lib/python3.9/site-packages (from tensorflow) (1.1.0)\n",
      "Requirement already satisfied: grpcio<2.0,>=1.24.3 in /Users/ammu/Desktop/anaconda3/lib/python3.9/site-packages (from tensorflow) (1.44.0)\n",
      "Requirement already satisfied: typing-extensions>=3.6.6 in /Users/ammu/Desktop/anaconda3/lib/python3.9/site-packages (from tensorflow) (3.10.0.2)\n",
      "Requirement already satisfied: wheel<1.0,>=0.23.0 in /Users/ammu/Desktop/anaconda3/lib/python3.9/site-packages (from astunparse>=1.6.0->tensorflow) (0.37.0)\n",
      "Requirement already satisfied: tensorboard-plugin-wit>=1.6.0 in /Users/ammu/Desktop/anaconda3/lib/python3.9/site-packages (from tensorboard<2.9,>=2.8->tensorflow) (1.8.1)\n",
      "Requirement already satisfied: werkzeug>=0.11.15 in /Users/ammu/Desktop/anaconda3/lib/python3.9/site-packages (from tensorboard<2.9,>=2.8->tensorflow) (2.0.2)\n",
      "Requirement already satisfied: tensorboard-data-server<0.7.0,>=0.6.0 in /Users/ammu/Desktop/anaconda3/lib/python3.9/site-packages (from tensorboard<2.9,>=2.8->tensorflow) (0.6.1)\n",
      "Requirement already satisfied: requests<3,>=2.21.0 in /Users/ammu/Desktop/anaconda3/lib/python3.9/site-packages (from tensorboard<2.9,>=2.8->tensorflow) (2.26.0)\n",
      "Requirement already satisfied: google-auth<3,>=1.6.3 in /Users/ammu/Desktop/anaconda3/lib/python3.9/site-packages (from tensorboard<2.9,>=2.8->tensorflow) (2.6.0)\n",
      "Requirement already satisfied: google-auth-oauthlib<0.5,>=0.4.1 in /Users/ammu/Desktop/anaconda3/lib/python3.9/site-packages (from tensorboard<2.9,>=2.8->tensorflow) (0.4.6)\n",
      "Requirement already satisfied: markdown>=2.6.8 in /Users/ammu/Desktop/anaconda3/lib/python3.9/site-packages (from tensorboard<2.9,>=2.8->tensorflow) (3.3.6)\n",
      "Requirement already satisfied: pyasn1-modules>=0.2.1 in /Users/ammu/Desktop/anaconda3/lib/python3.9/site-packages (from google-auth<3,>=1.6.3->tensorboard<2.9,>=2.8->tensorflow) (0.2.8)\n",
      "Requirement already satisfied: cachetools<6.0,>=2.0.0 in /Users/ammu/Desktop/anaconda3/lib/python3.9/site-packages (from google-auth<3,>=1.6.3->tensorboard<2.9,>=2.8->tensorflow) (5.0.0)\n",
      "Requirement already satisfied: rsa<5,>=3.1.4 in /Users/ammu/Desktop/anaconda3/lib/python3.9/site-packages (from google-auth<3,>=1.6.3->tensorboard<2.9,>=2.8->tensorflow) (4.8)\n",
      "Requirement already satisfied: requests-oauthlib>=0.7.0 in /Users/ammu/Desktop/anaconda3/lib/python3.9/site-packages (from google-auth-oauthlib<0.5,>=0.4.1->tensorboard<2.9,>=2.8->tensorflow) (1.3.1)\n",
      "Requirement already satisfied: importlib-metadata>=4.4 in /Users/ammu/Desktop/anaconda3/lib/python3.9/site-packages (from markdown>=2.6.8->tensorboard<2.9,>=2.8->tensorflow) (4.8.1)\n",
      "Requirement already satisfied: zipp>=0.5 in /Users/ammu/Desktop/anaconda3/lib/python3.9/site-packages (from importlib-metadata>=4.4->markdown>=2.6.8->tensorboard<2.9,>=2.8->tensorflow) (3.6.0)\n",
      "Requirement already satisfied: pyasn1<0.5.0,>=0.4.6 in /Users/ammu/Desktop/anaconda3/lib/python3.9/site-packages (from pyasn1-modules>=0.2.1->google-auth<3,>=1.6.3->tensorboard<2.9,>=2.8->tensorflow) (0.4.8)\n",
      "Requirement already satisfied: urllib3<1.27,>=1.21.1 in /Users/ammu/Desktop/anaconda3/lib/python3.9/site-packages (from requests<3,>=2.21.0->tensorboard<2.9,>=2.8->tensorflow) (1.26.7)\n",
      "Requirement already satisfied: charset-normalizer~=2.0.0 in /Users/ammu/Desktop/anaconda3/lib/python3.9/site-packages (from requests<3,>=2.21.0->tensorboard<2.9,>=2.8->tensorflow) (2.0.4)\n",
      "Requirement already satisfied: certifi>=2017.4.17 in /Users/ammu/Desktop/anaconda3/lib/python3.9/site-packages (from requests<3,>=2.21.0->tensorboard<2.9,>=2.8->tensorflow) (2021.10.8)\n",
      "Requirement already satisfied: idna<4,>=2.5 in /Users/ammu/Desktop/anaconda3/lib/python3.9/site-packages (from requests<3,>=2.21.0->tensorboard<2.9,>=2.8->tensorflow) (3.2)\n",
      "Requirement already satisfied: oauthlib>=3.0.0 in /Users/ammu/Desktop/anaconda3/lib/python3.9/site-packages (from requests-oauthlib>=0.7.0->google-auth-oauthlib<0.5,>=0.4.1->tensorboard<2.9,>=2.8->tensorflow) (3.2.0)\n"
     ]
    }
   ],
   "source": [
    "!pip install --upgrade tensorflow"
   ]
  },
  {
   "cell_type": "markdown",
   "metadata": {},
   "source": [
    "You can also check the version of it using the following code."
   ]
  },
  {
   "cell_type": "code",
   "execution_count": 2,
   "metadata": {},
   "outputs": [
    {
     "data": {
      "text/plain": [
       "'2.8.0'"
      ]
     },
     "execution_count": 2,
     "metadata": {},
     "output_type": "execute_result"
    }
   ],
   "source": [
    "import tensorflow as tf\n",
    "tf.__version__"
   ]
  },
  {
   "cell_type": "markdown",
   "metadata": {},
   "source": [
    "Now, it's time to load the dataset"
   ]
  },
  {
   "cell_type": "code",
   "execution_count": 5,
   "metadata": {},
   "outputs": [],
   "source": [
    "from tensorflow import keras\n",
    "fashion_mnist = keras.datasets.fashion_mnist\n",
    "(X_train, y_train), (X_test, y_test) = fashion_mnist.load_data()"
   ]
  },
  {
   "cell_type": "markdown",
   "metadata": {},
   "source": [
    "As can be seen from the above code, the dataset was divided into train and test sets. Let's take a look at the X_train"
   ]
  },
  {
   "cell_type": "code",
   "execution_count": 3,
   "metadata": {},
   "outputs": [
    {
     "data": {
      "text/plain": [
       "(60000, 28, 28)"
      ]
     },
     "execution_count": 3,
     "metadata": {},
     "output_type": "execute_result"
    }
   ],
   "source": [
    "X_train.shape\n"
   ]
  },
  {
   "cell_type": "markdown",
   "metadata": {},
   "source": [
    "As it is clear, the train dataset (`X_train`) contains 60,000 images of size 28 x 28. We can visualize one of the images using the following code:"
   ]
  },
  {
   "cell_type": "code",
   "execution_count": 4,
   "metadata": {},
   "outputs": [
    {
     "data": {
      "image/png": "[encoded data removed]",
      "text/plain": [
       "<Figure size 432x288 with 1 Axes>"
      ]
     },
     "metadata": {
      "needs_background": "light"
     },
     "output_type": "display_data"
    }
   ],
   "source": [
    "import matplotlib as mpl\n",
    "import matplotlib.pyplot as plt\n",
    "%matplotlib inline\n",
    "\n",
    "sample_image = X_train[10]\n",
    "plt.imshow(sample_image, cmap='binary')\n",
    "plt.axis('off')\n",
    "plt.show()"
   ]
  },
  {
   "cell_type": "raw",
   "metadata": {},
   "source": [
    "Lets try and see what images are in the index 5 for class sandal"
   ]
  },
  {
   "cell_type": "code",
   "execution_count": 6,
   "metadata": {},
   "outputs": [
    {
     "data": {
      "image/png": "[encoded data removed]",
      "text/plain": [
       "<Figure size 432x288 with 1 Axes>"
      ]
     },
     "metadata": {
      "needs_background": "light"
     },
     "output_type": "display_data"
    },
    {
     "data": {
      "image/png": "[encoded data removed]",
      "text/plain": [
       "<Figure size 432x288 with 1 Axes>"
      ]
     },
     "metadata": {
      "needs_background": "light"
     },
     "output_type": "display_data"
    },
    {
     "data": {
      "image/png": "[encoded data removed]",
      "text/plain": [
       "<Figure size 432x288 with 1 Axes>"
      ]
     },
     "metadata": {
      "needs_background": "light"
     },
     "output_type": "display_data"
    },
    {
     "data": {
      "image/png": "[encoded data removed]",
      "text/plain": [
       "<Figure size 432x288 with 1 Axes>"
      ]
     },
     "metadata": {
      "needs_background": "light"
     },
     "output_type": "display_data"
    }
   ],
   "source": [
    "import matplotlib as mpl\n",
    "import matplotlib.pyplot as plt\n",
    "import time\n",
    "%matplotlib inline\n",
    "\n",
    "for x in range(100):\n",
    "    if y_train[x] == 8:        \n",
    "        sample_image = X_train[x]\n",
    "        plt.imshow(sample_image, cmap='binary')\n",
    "        plt.axis('off')\n",
    "        plt.show()\n",
    "        time.sleep(5)"
   ]
  },
  {
   "cell_type": "markdown",
   "metadata": {},
   "source": [
    "The `y_train` also includes values between 0 and 9. Each represents a particular category. For example, we can check the value of `y_train` for the above image."
   ]
  },
  {
   "cell_type": "code",
   "execution_count": 23,
   "metadata": {},
   "outputs": [
    {
     "data": {
      "text/plain": [
       "0"
      ]
     },
     "execution_count": 23,
     "metadata": {},
     "output_type": "execute_result"
    }
   ],
   "source": [
    "y_train[10]"
   ]
  },
  {
   "cell_type": "markdown",
   "metadata": {},
   "source": [
    "The above code shows that the image belongs to category 0. To get the associated label with each category, you can use the following code:"
   ]
  },
  {
   "cell_type": "code",
   "execution_count": 9,
   "metadata": {},
   "outputs": [
    {
     "name": "stdout",
     "output_type": "stream",
     "text": [
      "T-shirt/top\n"
     ]
    }
   ],
   "source": [
    "class_names = ['T-shirt/top','Trouser','Pullover','Dress','Coat','Sandal','Shirt','Sneaker','Bag','Ankle boot']\n",
    "print(class_names[y_train[10]])"
   ]
  },
  {
   "cell_type": "markdown",
   "metadata": {},
   "source": [
    "Project Tasks:"
   ]
  },
  {
   "cell_type": "markdown",
   "metadata": {},
   "source": [
    "<ul>\n",
    "    <li><b>Task1:</b> Using the train set to train various supervised models and evaluate their performance using the test set.</li>\n",
    "    <ul>\n",
    "        <li>Using different supervised learning models.</li>\n",
    "        <li>Using different metrics such as <b>accutacy</b>, <b>precision</b>, <b>AUC</b>, etc, for the model evaluation. </li>\n",
    "        <li> Using the cross validation methods for hyperparameter selection.</li>\n",
    "        <li> Specifying the model that outperforms the other models.</b>\n",
    "    </ul>\n",
    "    <li><b>Task2:</b> Using the best model to predict own fashion pieces.</li>\n",
    "    <ul>\n",
    "        <li>Taking a picture of five fashion pieces of own (pictures to be taken in square format).</li>\n",
    "        <li>Resize images to the correct size (28,28).</li>\n",
    "        <li>Grayscale images.</li>\n",
    "        <li>Visualize all the images side by side</li>\n",
    "        <li>Using the best model in Task 1 to predict the label of each of own images.</li>\n",
    "        <li>To check how accurate is the final result</li>\n",
    "    </ul>\n",
    "</ul>"
   ]
  },
  {
   "cell_type": "markdown",
   "metadata": {},
   "source": [
    "## SOLUTIONS\n",
    "\n",
    "### Task1 : \n",
    "running various supervised models to train the train set and to evaluate the performance using the test set."
   ]
  },
  {
   "cell_type": "markdown",
   "metadata": {},
   "source": [
    "running basic python packages"
   ]
  },
  {
   "cell_type": "code",
   "execution_count": 2,
   "metadata": {},
   "outputs": [],
   "source": [
    "%matplotlib inline\n",
    "import matplotlib.pyplot as plt\n",
    "import numpy as np\n",
    "import pandas as pd"
   ]
  },
  {
   "cell_type": "code",
   "execution_count": 34,
   "metadata": {},
   "outputs": [
    {
     "data": {
      "text/plain": [
       "(60000, 28, 28)"
      ]
     },
     "execution_count": 34,
     "metadata": {},
     "output_type": "execute_result"
    }
   ],
   "source": [
    "X_train.shape"
   ]
  },
  {
   "cell_type": "code",
   "execution_count": 35,
   "metadata": {},
   "outputs": [
    {
     "data": {
      "text/plain": [
       "(10000, 28, 28)"
      ]
     },
     "execution_count": 35,
     "metadata": {},
     "output_type": "execute_result"
    }
   ],
   "source": [
    "X_test.shape"
   ]
  },
  {
   "cell_type": "code",
   "execution_count": 36,
   "metadata": {},
   "outputs": [
    {
     "data": {
      "text/plain": [
       "(60000,)"
      ]
     },
     "execution_count": 36,
     "metadata": {},
     "output_type": "execute_result"
    }
   ],
   "source": [
    "y_train.shape"
   ]
  },
  {
   "cell_type": "code",
   "execution_count": 37,
   "metadata": {},
   "outputs": [
    {
     "data": {
      "text/plain": [
       "(10000,)"
      ]
     },
     "execution_count": 37,
     "metadata": {},
     "output_type": "execute_result"
    }
   ],
   "source": [
    "y_test.shape"
   ]
  },
  {
   "cell_type": "raw",
   "metadata": {},
   "source": [
    "reshaping the train and test data to fit and match the dimensions else would error out.\n",
    "error : 'Found array with dim 3. Estimator expected <= 2'"
   ]
  },
  {
   "cell_type": "code",
   "execution_count": 3,
   "metadata": {},
   "outputs": [],
   "source": [
    "X_train=X_train.reshape(60000,784)\n",
    "X_test=X_test.reshape(10000,784)"
   ]
  },
  {
   "cell_type": "code",
   "execution_count": 4,
   "metadata": {},
   "outputs": [
    {
     "data": {
      "text/plain": [
       "(60000, 784)"
      ]
     },
     "execution_count": 4,
     "metadata": {},
     "output_type": "execute_result"
    }
   ],
   "source": [
    "X_train.shape"
   ]
  },
  {
   "cell_type": "markdown",
   "metadata": {},
   "source": [
    "### MODEL_1 : Multiple regression "
   ]
  },
  {
   "cell_type": "code",
   "execution_count": 10,
   "metadata": {},
   "outputs": [],
   "source": [
    "#MULTIPLE REGRESSION MODEL : ALGORITHM \n",
    "\n",
    "# Step 1\n",
    "from sklearn.model_selection import train_test_split\n",
    "from sklearn.linear_model import LinearRegression  #import functions/line can be written at the beginning\n",
    "\n",
    "# Step 2\n",
    "model = LinearRegression()\n",
    "\n",
    "# step 3\n",
    "#X_train, X_test, y_train and y_test are defined already in the above steps.\n",
    "\n",
    "# Step 4\n",
    "model.fit(X_train, y_train)\n",
    "\n",
    "# Step 5\n",
    "y_test_hat = model.predict(X_test) #this is called 'out sample data' \n",
    "\n",
    "# model.predict(X_train)           #this is called 'in sample data'"
   ]
  },
  {
   "cell_type": "markdown",
   "metadata": {},
   "source": [
    "plotting y_test against y_test_hat to check the performance of the model"
   ]
  },
  {
   "cell_type": "code",
   "execution_count": 11,
   "metadata": {},
   "outputs": [
    {
     "data": {
      "image/png": "[encoded data removed]",
      "text/plain": [
       "<Figure size 432x288 with 1 Axes>"
      ]
     },
     "metadata": {
      "needs_background": "light"
     },
     "output_type": "display_data"
    }
   ],
   "source": [
    "line_x = np.linspace(0, 500000, 500000)\n",
    "line_y = line_x\n",
    "plt.plot(y_test,y_test_hat, linestyle = 'None', marker='x')\n",
    "plt.plot(line_x,line_y)\n",
    "plt.xlabel(\"y_test\")\n",
    "plt.ylabel(\"y_test_hat\");"
   ]
  },
  {
   "cell_type": "markdown",
   "metadata": {},
   "source": [
    "using the below 3 levels of errors in the prediction model to check the performance of the model."
   ]
  },
  {
   "cell_type": "code",
   "execution_count": 12,
   "metadata": {},
   "outputs": [
    {
     "name": "stdout",
     "output_type": "stream",
     "text": [
      "MAE = 1.0221657385028429\n",
      "MSE = 1.968429714245785\n",
      "RMSE = 1.4030073821066604\n"
     ]
    }
   ],
   "source": [
    "from sklearn.metrics import mean_absolute_error, mean_squared_error\n",
    "MAE = mean_absolute_error(y_test,y_test_hat)\n",
    "MSE = mean_squared_error(y_test,y_test_hat)\n",
    "RMSE = np.sqrt(MSE)\n",
    "\n",
    "print(\"MAE = {}\".format(MAE))\n",
    "print(\"MSE = {}\".format(MSE))\n",
    "print(\"RMSE = {}\".format(RMSE))"
   ]
  },
  {
   "cell_type": "markdown",
   "metadata": {},
   "source": [
    "using score( ) function to find the  𝑅2  value for both train and test data"
   ]
  },
  {
   "cell_type": "code",
   "execution_count": 13,
   "metadata": {},
   "outputs": [
    {
     "data": {
      "text/plain": [
       "0.7728312037046021"
      ]
     },
     "execution_count": 13,
     "metadata": {},
     "output_type": "execute_result"
    }
   ],
   "source": [
    "# R2 for train set\n",
    "model.score(X_train, y_train)"
   ]
  },
  {
   "cell_type": "code",
   "execution_count": 14,
   "metadata": {},
   "outputs": [
    {
     "data": {
      "text/plain": [
       "0.7614024588792988"
      ]
     },
     "execution_count": 14,
     "metadata": {},
     "output_type": "execute_result"
    }
   ],
   "source": [
    "# R2 for test set\n",
    "model.score(X_test, y_test)"
   ]
  },
  {
   "cell_type": "markdown",
   "metadata": {},
   "source": [
    "results of multiple regression model :\n",
    "MAE = 1.0221657385028429, \n",
    "MSE = 1.968429714245785, \n",
    "RMSE = 1.4030073821066604\n",
    "\n",
    "R2 for train set : 0.7728312037046021 (77.283%), \n",
    "R2 for test set  : 0.7614024588792988 (76.140%)"
   ]
  },
  {
   "cell_type": "markdown",
   "metadata": {},
   "source": [
    "#### Expalantion:"
   ]
  },
  {
   "cell_type": "raw",
   "metadata": {},
   "source": [
    "The results are likely to be intepreted based on the prediction principles, techniques and policies \n",
    "being applied upon different datasets and followed in different organization.\n",
    "It always depends from dataset to dataset and from one platform to other.\n",
    "\n",
    "Generally a good R-square value range is considered to be,\n",
    "0.8~1, implying that model fits the data well and predicts almost accurately.\n",
    "\n",
    "In general,\n",
    "There is no fixed threshold limit for RMSE and R squared. \n",
    "It is always better to have RMSE as low as possible. \n",
    "If RMSE of train data < RMSE of test , then we overfit the model and underfit if the viceversa scenario happens.\n",
    "\n",
    "However, looking at the above model results:\n",
    "RMSE value, Rsquare value tells that the data might not fit the model well for comparing images(pixels)\n",
    "and so going forward with other models for Task2 model prediction.\n"
   ]
  },
  {
   "cell_type": "markdown",
   "metadata": {},
   "source": [
    "----------------------------------- END of MODEL_1 ------------------------------------------------------"
   ]
  },
  {
   "cell_type": "markdown",
   "metadata": {},
   "source": [
    "### MODEL_2 : Logistic regression "
   ]
  },
  {
   "cell_type": "code",
   "execution_count": 14,
   "metadata": {},
   "outputs": [
    {
     "name": "stderr",
     "output_type": "stream",
     "text": [
      "/Users/ammu/Desktop/anaconda3/lib/python3.9/site-packages/sklearn/linear_model/_logistic.py:763: ConvergenceWarning: lbfgs failed to converge (status=1):\n",
      "STOP: TOTAL NO. of f AND g EVALUATIONS EXCEEDS LIMIT.\n",
      "\n",
      "Increase the number of iterations (max_iter) or scale the data as shown in:\n",
      "    https://scikit-learn.org/stable/modules/preprocessing.html\n",
      "Please also refer to the documentation for alternative solver options:\n",
      "    https://scikit-learn.org/stable/modules/linear_model.html#logistic-regression\n",
      "  n_iter_i = _check_optimize_result(\n"
     ]
    }
   ],
   "source": [
    "#LOGISTIC REGRESSION MODEL : ALGORITHM \n",
    "\n",
    "# Step 1\n",
    "from sklearn.model_selection import train_test_split\n",
    "from sklearn.linear_model import LogisticRegression\n",
    "\n",
    "# Step 2\n",
    "model = LogisticRegression(max_iter=1000000)\n",
    "\n",
    "# Step 3\n",
    "#X_train, X_test, y_train and y_test are defined already in the above steps.\n",
    "\n",
    "\n",
    "# Step 4\n",
    "model.fit(X_train, y_train)\n",
    "\n",
    "# Step 5\n",
    "y_test_hat = model.predict(X_test)"
   ]
  },
  {
   "cell_type": "markdown",
   "metadata": {},
   "source": [
    "checking the accuracy of logistic model:"
   ]
  },
  {
   "cell_type": "code",
   "execution_count": 6,
   "metadata": {},
   "outputs": [
    {
     "data": {
      "text/plain": [
       "83.78999999999999"
      ]
     },
     "execution_count": 6,
     "metadata": {},
     "output_type": "execute_result"
    }
   ],
   "source": [
    "from sklearn.metrics import accuracy_score\n",
    "accuracy_score(y_test,y_test_hat, normalize = True) * 100 "
   ]
  },
  {
   "cell_type": "code",
   "execution_count": 7,
   "metadata": {},
   "outputs": [
    {
     "name": "stdout",
     "output_type": "stream",
     "text": [
      "Confusion Matrix\n",
      "[[816   5  14  52   9   4  87   1  12   0]\n",
      " [  3 954   6  28   3   0   3   1   2   0]\n",
      " [ 23   5 732  13 139   0  77   0  11   0]\n",
      " [ 24  21  18 857  34   1  35   1   6   3]\n",
      " [  0   0 111  43 775   0  61   0  10   0]\n",
      " [  1   1   0   0   1 915   1  43  14  24]\n",
      " [148   6 132  50 116   0 521   0  26   1]\n",
      " [  0   0   0   0   0  33   0 937   2  28]\n",
      " [  5   6   7  13   3   8  16   8 931   3]\n",
      " [  0   0   0   1   0  14   1  43   0 941]]\n",
      "              precision    recall  f1-score   support\n",
      "\n",
      "           0       0.80      0.82      0.81      1000\n",
      "           1       0.96      0.95      0.95      1000\n",
      "           2       0.72      0.73      0.72      1000\n",
      "           3       0.81      0.86      0.83      1000\n",
      "           4       0.72      0.78      0.75      1000\n",
      "           5       0.94      0.92      0.93      1000\n",
      "           6       0.65      0.52      0.58      1000\n",
      "           7       0.91      0.94      0.92      1000\n",
      "           8       0.92      0.93      0.92      1000\n",
      "           9       0.94      0.94      0.94      1000\n",
      "\n",
      "    accuracy                           0.84     10000\n",
      "   macro avg       0.84      0.84      0.84     10000\n",
      "weighted avg       0.84      0.84      0.84     10000\n",
      "\n"
     ]
    }
   ],
   "source": [
    "from sklearn.metrics import classification_report, confusion_matrix\n",
    "print(\"Confusion Matrix\")\n",
    "print(confusion_matrix(y_test,y_test_hat))\n",
    "print()\n",
    "print()\n",
    "print(classification_report(y_test,y_test_hat))"
   ]
  },
  {
   "cell_type": "markdown",
   "metadata": {},
   "source": [
    "#### Expalantion:"
   ]
  },
  {
   "cell_type": "raw",
   "metadata": {},
   "source": [
    "results of logistic regression model :\n",
    "Accuracy Score : 83.78999999999999\n",
    "\n",
    "Since accuracy recieved is 83%, we need to consider other parameters such as precision, recall and f1 score for further understanding and analysis.\n",
    "\n",
    "Will be looking at true positive values (recall) to see what % of images(pixels) are matching with our trained model.\n",
    "from the above we can see recall % varies for different classes (between 75 - 95)\n",
    "class 1 has the highest recall with 95%\n",
    "\n",
    "F1_score is a more useful measure than accuracy for problems with uneven class distribution because it takes into account both false positive and false negatives. f1 score ranges from (75 - 95)\n",
    "class 1 has highest f1 with 95%\n",
    "\n",
    "There is no perfect 1 recieved for either recall/f1 score. We can change the threshold to increase recall value and try getting 1 (which reduces precision).\n",
    "\n",
    "However, going forward with other models for Task2 model prediction."
   ]
  },
  {
   "cell_type": "markdown",
   "metadata": {},
   "source": [
    "----------------------------------- END of MODEL_2 ------------------------------------------------------"
   ]
  },
  {
   "cell_type": "markdown",
   "metadata": {},
   "source": [
    "## MODEL_3 "
   ]
  },
  {
   "cell_type": "markdown",
   "metadata": {},
   "source": [
    "### MODEL_3.1 : Decision tree "
   ]
  },
  {
   "cell_type": "code",
   "execution_count": 6,
   "metadata": {},
   "outputs": [
    {
     "data": {
      "text/plain": [
       "DecisionTreeClassifier(max_depth=7)"
      ]
     },
     "execution_count": 6,
     "metadata": {},
     "output_type": "execute_result"
    }
   ],
   "source": [
    "from sklearn.tree import DecisionTreeClassifier\n",
    "model = DecisionTreeClassifier(max_depth=7)\n",
    "model.fit(X_train, y_train)"
   ]
  },
  {
   "cell_type": "code",
   "execution_count": 7,
   "metadata": {},
   "outputs": [
    {
     "name": "stdout",
     "output_type": "stream",
     "text": [
      "Out-of-sample Accuracy:  75.57000000000001\n",
      "\n",
      "\n",
      "              precision    recall  f1-score   support\n",
      "\n",
      "           0       0.69      0.81      0.75      1000\n",
      "           1       0.95      0.92      0.93      1000\n",
      "           2       0.64      0.55      0.59      1000\n",
      "           3       0.75      0.80      0.78      1000\n",
      "           4       0.53      0.65      0.58      1000\n",
      "           5       0.92      0.84      0.87      1000\n",
      "           6       0.51      0.41      0.45      1000\n",
      "           7       0.81      0.90      0.85      1000\n",
      "           8       0.88      0.80      0.84      1000\n",
      "           9       0.90      0.88      0.89      1000\n",
      "\n",
      "    accuracy                           0.76     10000\n",
      "   macro avg       0.76      0.76      0.75     10000\n",
      "weighted avg       0.76      0.76      0.75     10000\n",
      "\n"
     ]
    }
   ],
   "source": [
    "from sklearn.metrics import accuracy_score\n",
    "from sklearn.metrics import classification_report\n",
    "y_train_hat  = model.predict(X_train)\n",
    "y_test_hat  = model.predict(X_test)\n",
    "in_sample_acc = accuracy_score(y_train,y_train_hat, normalize = True) * 100\n",
    "out_of_sample_acc = accuracy_score(y_test,y_test_hat, normalize = True) * 100\n",
    "#print(\"In-sample Accuracy: \", in_sample_acc)\n",
    "print(\"Out-of-sample Accuracy: \", out_of_sample_acc)\n",
    "print()\n",
    "print()\n",
    "print(classification_report(y_test,y_test_hat))"
   ]
  },
  {
   "cell_type": "markdown",
   "metadata": {},
   "source": [
    "#### Expalantion:"
   ]
  },
  {
   "cell_type": "raw",
   "metadata": {},
   "source": [
    "Accuracy without hypermeters is 75%\n",
    "The model has generated rules that can explain the observations at a depth of 7. It's evident that this is more of comparing the trained model images(pixels) and exact pixel distribution.\n",
    "\n",
    "Since accuracy recieved is 75%, we need to consider other parameters such as precision, recall and f1 score for further understanding and analysis.\n",
    "\n",
    "Will be looking at true positive values (recall) to see what % of images(pixels) are matching with our trained model.\n",
    "from the above we can see recall % varies for different classes (between 75 - 95)\n",
    "class 1 has the highest recall with 92%\n",
    "\n",
    "F1_score is a more useful measure than accuracy for problems with uneven class distribution because it takes into account both false positive and false negatives. f1 score ranges from (75 - 95)\n",
    "class 1 has highest f1 with 93%\n",
    "\n",
    "There is no perfect 1 recieved for either recall/f1 score. We can change the threshold to increase recall value and try getting 1 (which reduces precision).\n",
    "\n",
    "Now instead changing the threshold to increase our recall, We can also tune the model by selecting hyperparameters using StratifiedKFold to predict the model accuracy and other factors."
   ]
  },
  {
   "cell_type": "markdown",
   "metadata": {},
   "source": [
    "Running Decision tree with selecting hyopermeters (using StratifiedKFold)"
   ]
  },
  {
   "cell_type": "markdown",
   "metadata": {},
   "source": [
    "### MODEL_3.2 : Decision tree with StratifiedKFold "
   ]
  },
  {
   "cell_type": "code",
   "execution_count": 34,
   "metadata": {},
   "outputs": [
    {
     "name": "stdout",
     "output_type": "stream",
     "text": [
      "Best Parameter: {'max_depth': 7}\n",
      "Best Cross Validation Score: 0.7663333333333333\n",
      "\n"
     ]
    }
   ],
   "source": [
    "from sklearn.tree import DecisionTreeClassifier \n",
    "from sklearn.model_selection import GridSearchCV,StratifiedKFold\n",
    "\n",
    "\n",
    "model = DecisionTreeClassifier()\n",
    "\n",
    "param_grid = {'max_depth': [1,2,3,4,5,6,7]}\n",
    "cv = StratifiedKFold(n_splits=5, random_state=0, shuffle=True)\n",
    "grid = GridSearchCV(model, param_grid, cv = cv, return_train_score=True, scoring='accuracy')\n",
    "grid.fit(X_train, y_train)\n",
    "\n",
    "print(\"Best Parameter: {}\".format(grid.best_params_))\n",
    "print(\"Best Cross Validation Score: {}\".format(grid.best_score_))\n",
    "\n",
    "bestModel = grid.best_estimator_\n",
    "y_train_hat  = bestModel.predict(X_train)\n",
    "y_test_hat  = bestModel.predict(X_test)\n",
    "print()\n",
    "\n",
    "\n"
   ]
  },
  {
   "cell_type": "markdown",
   "metadata": {},
   "source": [
    "#### Expalantion:"
   ]
  },
  {
   "cell_type": "raw",
   "metadata": {},
   "source": [
    "Dicision tree with hypermaters was run.\n",
    "accuracy with hypermeters is 76%\n",
    "\n",
    "Even after tuning the model using StratifiedKFold, the acuuracy got increased by 1% which tells us that there is no much difference in both the prediction techniques and the images are being comapred with 75-76% accuracy.\n",
    "\n",
    "Now lets try randomising the decision tree and check the results."
   ]
  },
  {
   "cell_type": "markdown",
   "metadata": {},
   "source": [
    "----------------------------------- END of MODEL_3 ------------------------------------------------------"
   ]
  },
  {
   "cell_type": "markdown",
   "metadata": {},
   "source": [
    "### MODEL_4 : Random forest "
   ]
  },
  {
   "cell_type": "code",
   "execution_count": 19,
   "metadata": {},
   "outputs": [
    {
     "name": "stdout",
     "output_type": "stream",
     "text": [
      "Out-of-sample Accuracy:  86.83\n"
     ]
    }
   ],
   "source": [
    "from sklearn.tree import DecisionTreeClassifier \n",
    "from sklearn.ensemble import BaggingClassifier\n",
    "\n",
    "# initialize decision tree\n",
    "tree = DecisionTreeClassifier()\n",
    "# initialize bagging with 50 decision trees (each tree use 80% of training data)\n",
    "bag = BaggingClassifier(tree, n_estimators=50, \n",
    "                        max_samples=0.8, random_state=0)\n",
    "\n",
    "# fit the bagging model\n",
    "bag.fit(X_train,y_train)\n",
    "\n",
    "# let's check in-sample and out-of-sample accuracy\n",
    "#y_train_hat  = bag.predict(X_train)\n",
    "y_test_hat  = bag.predict(X_test)\n",
    "#in_sample_acc = accuracy_score(y_train,y_train_hat, normalize = True) * 100\n",
    "out_of_sample_acc = accuracy_score(y_test,y_test_hat, normalize = True) * 100\n",
    "#print(\"In-sample Accuracy: \", in_sample_acc)\n",
    "print(\"Out-of-sample Accuracy: \", out_of_sample_acc)"
   ]
  },
  {
   "cell_type": "code",
   "execution_count": 21,
   "metadata": {},
   "outputs": [
    {
     "name": "stdout",
     "output_type": "stream",
     "text": [
      "[[845   3  13  33   8   2  83   0  13   0]\n",
      " [  5 962   3  18   4   0   7   0   1   0]\n",
      " [ 10   0 785  12 118   0  66   0   9   0]\n",
      " [ 29   3  11 886  36   0  32   0   3   0]\n",
      " [  1   2  93  38 800   1  63   0   2   0]\n",
      " [  0   0   0   1   0 952   0  28   5  14]\n",
      " [144   1 113  28  94   2 599   0  19   0]\n",
      " [  0   0   0   0   0  23   0 948   3  26]\n",
      " [  3   2  10   2   4   3  10   5 959   2]\n",
      " [  1   0   0   0   0   9   1  40   2 947]]\n",
      "\n",
      "              precision    recall  f1-score   support\n",
      "\n",
      "           0       0.81      0.84      0.83      1000\n",
      "           1       0.99      0.96      0.98      1000\n",
      "           2       0.76      0.79      0.77      1000\n",
      "           3       0.87      0.89      0.88      1000\n",
      "           4       0.75      0.80      0.78      1000\n",
      "           5       0.96      0.95      0.96      1000\n",
      "           6       0.70      0.60      0.64      1000\n",
      "           7       0.93      0.95      0.94      1000\n",
      "           8       0.94      0.96      0.95      1000\n",
      "           9       0.96      0.95      0.95      1000\n",
      "\n",
      "    accuracy                           0.87     10000\n",
      "   macro avg       0.87      0.87      0.87     10000\n",
      "weighted avg       0.87      0.87      0.87     10000\n",
      "\n"
     ]
    }
   ],
   "source": [
    "from sklearn.metrics import confusion_matrix, classification_report\n",
    "\n",
    "print(confusion_matrix(y_test,y_test_hat))\n",
    "print()\n",
    "print(classification_report(y_test,y_test_hat))"
   ]
  },
  {
   "cell_type": "markdown",
   "metadata": {},
   "source": [
    "#### Expalantion:"
   ]
  },
  {
   "cell_type": "raw",
   "metadata": {},
   "source": [
    "Accuracy for random forest is 86%.\n",
    "Accuracy has now increased with 11% in this model.\n",
    "This model has generated rules that can explain the observations by defining its estimators and samples.\n",
    "\n",
    "Upon randomising our decision tree for the data, we see some good results obtained.\n",
    "So far this is the highest accuracy seen.\n",
    "\n",
    "Since accuracy recieved is 86%, lets consider other parameters such as precision, recall and f1 score for further understanding and analysis.\n",
    "\n",
    "Will be looking at true positive values (recall) to see what % of images(pixels) are matching with our trained model.\n",
    "from the above we can see recall % varies for different classes (between 60 - 96)\n",
    "class 1 and class 8 has the highest recall with 96%\n",
    "\n",
    "F1_score is a more useful measure than accuracy for problems with uneven class distribution because it takes into account both false positive and false negatives. f1 score ranges from (60 - 96)\n",
    "class 1 has highest f1 with 98%\n",
    "\n",
    "Going forward with other models for Task2 model prediction.\n"
   ]
  },
  {
   "cell_type": "markdown",
   "metadata": {},
   "source": [
    "----------------------------------- END of MODEL_4 ------------------------------------------------------"
   ]
  },
  {
   "cell_type": "markdown",
   "metadata": {},
   "source": [
    "### MODEL_5 : Neural network "
   ]
  },
  {
   "cell_type": "code",
   "execution_count": 11,
   "metadata": {},
   "outputs": [
    {
     "name": "stdout",
     "output_type": "stream",
     "text": [
      "In-sample Accuracy:  30.033333333333335\n",
      "Out-of-sample Accuracy:  29.759999999999998\n"
     ]
    }
   ],
   "source": [
    "import matplotlib.pyplot as plt\n",
    "from sklearn.neural_network import MLPClassifier\n",
    "from sklearn.datasets import make_moons\n",
    "\n",
    "model = MLPClassifier(solver='lbfgs',random_state=0, \n",
    "                      hidden_layer_sizes=[10], max_iter=50000)\n",
    "model.fit(X_train,y_train)\n",
    "\n",
    "# check the accuracy\n",
    "y_train_hat = model.predict(X_train)\n",
    "y_test_hat = model.predict(X_test)\n",
    "\n",
    "in_sample_acc = accuracy_score(y_train,y_train_hat, normalize = True) * 100\n",
    "out_of_sample_acc = accuracy_score(y_test,y_test_hat, normalize = True) * 100\n",
    "print(\"In-sample Accuracy: \", in_sample_acc)\n",
    "print(\"Out-of-sample Accuracy: \", out_of_sample_acc)"
   ]
  },
  {
   "cell_type": "markdown",
   "metadata": {},
   "source": [
    "#### Expalantion:"
   ]
  },
  {
   "cell_type": "raw",
   "metadata": {},
   "source": [
    "Neural Networks is generalization of linear models that perform multiple stages of processing to come to a decision.\n",
    "Accuracy of this model is 29.7%\n",
    "\n",
    "Hidden layer with 50 nodes is used to form the neural network classifier. For the dataset we can see that there is no good results obtained from this model.\n",
    "\n",
    "Going forward with other models for Task2"
   ]
  },
  {
   "cell_type": "markdown",
   "metadata": {},
   "source": [
    "----------------------------------- END of MODEL_5 ------------------------------------------------------"
   ]
  },
  {
   "cell_type": "markdown",
   "metadata": {},
   "source": [
    "### MODEL_6 : Gaussian Naive Bayes "
   ]
  },
  {
   "cell_type": "code",
   "execution_count": 48,
   "metadata": {},
   "outputs": [
    {
     "data": {
      "image/png": "[encoded data removed]",
      "text/plain": [
       "<Figure size 432x288 with 1 Axes>"
      ]
     },
     "metadata": {},
     "output_type": "display_data"
    }
   ],
   "source": [
    "# let's see visualzie the test and train data\n",
    "plt.scatter(X_train[:, 0], X_train[:, 1], c=y_train, s=50, cmap='winter')\n",
    "lim = plt.axis()\n",
    "plt.scatter(X_test[:, 0], X_test[:, 1], s=20, c='black', alpha=0.1)\n",
    "plt.axis(lim);"
   ]
  },
  {
   "cell_type": "code",
   "execution_count": 49,
   "metadata": {},
   "outputs": [
    {
     "data": {
      "image/png": "[encoded data removed]",
      "text/plain": [
       "<Figure size 432x288 with 1 Axes>"
      ]
     },
     "metadata": {},
     "output_type": "display_data"
    }
   ],
   "source": [
    "# Guassian  model : ALGORITHM\n",
    "\n",
    "from sklearn.naive_bayes import GaussianNB \n",
    "model = GaussianNB()\n",
    "model.fit(X_train, y_train)\n",
    "y_test = model.predict(X_test)\n",
    "\n",
    "plt.scatter(X_train[:, 0], X_train[:, 1], c=y_train, s=50, cmap='winter')\n",
    "lim = plt.axis()\n",
    "plt.scatter(X_test[:, 0], X_test[:, 1], c=y_test, s=20, cmap='winter', alpha=0.1)\n",
    "plt.axis(lim);"
   ]
  },
  {
   "cell_type": "code",
   "execution_count": 50,
   "metadata": {},
   "outputs": [],
   "source": [
    "y_prob = model.predict_proba(X_test)"
   ]
  },
  {
   "cell_type": "code",
   "execution_count": 51,
   "metadata": {},
   "outputs": [
    {
     "data": {
      "text/plain": [
       "array([[0.00000000e+000, 0.00000000e+000, 0.00000000e+000, ...,\n",
       "        1.00000000e+000, 0.00000000e+000, 0.00000000e+000],\n",
       "       [0.00000000e+000, 0.00000000e+000, 4.84854224e-029, ...,\n",
       "        0.00000000e+000, 0.00000000e+000, 0.00000000e+000],\n",
       "       [0.00000000e+000, 1.00000000e+000, 0.00000000e+000, ...,\n",
       "        0.00000000e+000, 0.00000000e+000, 0.00000000e+000],\n",
       "       ...,\n",
       "       [1.38284258e-221, 1.47274507e-137, 0.00000000e+000, ...,\n",
       "        0.00000000e+000, 0.00000000e+000, 0.00000000e+000],\n",
       "       [0.00000000e+000, 1.00000000e+000, 0.00000000e+000, ...,\n",
       "        0.00000000e+000, 0.00000000e+000, 0.00000000e+000],\n",
       "       [0.00000000e+000, 0.00000000e+000, 0.00000000e+000, ...,\n",
       "        1.00000000e+000, 0.00000000e+000, 0.00000000e+000]])"
      ]
     },
     "execution_count": 51,
     "metadata": {},
     "output_type": "execute_result"
    }
   ],
   "source": [
    "y_prob"
   ]
  },
  {
   "cell_type": "code",
   "execution_count": 52,
   "metadata": {},
   "outputs": [
    {
     "data": {
      "text/plain": [
       "array([[0, 0, 0, ..., 0, 0, 0],\n",
       "       [0, 0, 0, ..., 0, 0, 0],\n",
       "       [0, 0, 0, ..., 0, 0, 0],\n",
       "       [0, 0, 0, ..., 0, 0, 0],\n",
       "       [0, 0, 0, ..., 0, 0, 0]], dtype=uint8)"
      ]
     },
     "execution_count": 52,
     "metadata": {},
     "output_type": "execute_result"
    }
   ],
   "source": [
    "X_test[-5:,:]"
   ]
  },
  {
   "cell_type": "code",
   "execution_count": 53,
   "metadata": {},
   "outputs": [
    {
     "data": {
      "text/plain": [
       "array([9, 1, 3, 1, 7], dtype=uint8)"
      ]
     },
     "execution_count": 53,
     "metadata": {},
     "output_type": "execute_result"
    }
   ],
   "source": [
    "y_test[-5:]"
   ]
  },
  {
   "cell_type": "code",
   "execution_count": 54,
   "metadata": {},
   "outputs": [
    {
     "data": {
      "text/plain": [
       "array([[0., 0., 0., 0., 0., 0., 0., 0., 0., 1.],\n",
       "       [0., 1., 0., 0., 0., 0., 0., 0., 0., 0.],\n",
       "       [0., 0., 0., 1., 0., 0., 0., 0., 0., 0.],\n",
       "       [0., 1., 0., 0., 0., 0., 0., 0., 0., 0.],\n",
       "       [0., 0., 0., 0., 0., 0., 0., 1., 0., 0.]])"
      ]
     },
     "execution_count": 54,
     "metadata": {},
     "output_type": "execute_result"
    }
   ],
   "source": [
    "y_prob[-5:].round(2)"
   ]
  },
  {
   "cell_type": "code",
   "execution_count": 96,
   "metadata": {},
   "outputs": [],
   "source": [
    "#Simillar to assignment_2\n",
    "\n",
    "from sklearn.naive_bayes import GaussianNB \n",
    "model = GaussianNB()\n",
    "model.fit(X_train, y_train)\n",
    "y_test_hat = model.predict(X_test)\n",
    "y_train_hat = model.predict(X_train)"
   ]
  },
  {
   "cell_type": "code",
   "execution_count": 97,
   "metadata": {},
   "outputs": [
    {
     "name": "stdout",
     "output_type": "stream",
     "text": [
      "58.56\n",
      "58.778333333333336\n"
     ]
    }
   ],
   "source": [
    "from sklearn.metrics import accuracy_score,confusion_matrix,classification_report\n",
    "print(accuracy_score(y_test,y_test_hat, normalize = True) * 100 )\n",
    "print(accuracy_score(y_train,y_train_hat, normalize = True) * 100 )"
   ]
  },
  {
   "cell_type": "code",
   "execution_count": 100,
   "metadata": {},
   "outputs": [
    {
     "name": "stdout",
     "output_type": "stream",
     "text": [
      "[[586  64  29 162 110   0  20   0  29   0]\n",
      " [  1 939  14  36   7   0   1   0   2   0]\n",
      " [  7  14 324  65 545   0  23   0  22   0]\n",
      " [  9 387   6 545  43   0   4   0   6   0]\n",
      " [  0  34  44 131 779   0   4   0   8   0]\n",
      " [  0   0   1   1   0 278   3 660   5  52]\n",
      " [117  34 112 200 435   0  40   0  62   0]\n",
      " [  0   0   0   0   0   3   0 988   0   9]\n",
      " [  0   2  19  85 149   3  27   4 710   1]\n",
      " [  0   0   1   1   0  16   3 304   8 667]]\n",
      "\n",
      "              precision    recall  f1-score   support\n",
      "\n",
      "           0       0.81      0.59      0.68      1000\n",
      "           1       0.64      0.94      0.76      1000\n",
      "           2       0.59      0.32      0.42      1000\n",
      "           3       0.44      0.55      0.49      1000\n",
      "           4       0.38      0.78      0.51      1000\n",
      "           5       0.93      0.28      0.43      1000\n",
      "           6       0.32      0.04      0.07      1000\n",
      "           7       0.51      0.99      0.67      1000\n",
      "           8       0.83      0.71      0.77      1000\n",
      "           9       0.91      0.67      0.77      1000\n",
      "\n",
      "    accuracy                           0.59     10000\n",
      "   macro avg       0.64      0.59      0.56     10000\n",
      "weighted avg       0.64      0.59      0.56     10000\n",
      "\n"
     ]
    }
   ],
   "source": [
    "from sklearn.metrics import confusion_matrix, classification_report\n",
    "import seaborn as sns; sns.set() \n",
    "cf_matrix = confusion_matrix(y_test,y_test_hat)\n",
    "cl_report = classification_report(y_test,y_test_hat)\n",
    "print(cf_matrix)\n",
    "print()\n",
    "print(cl_report)"
   ]
  },
  {
   "cell_type": "markdown",
   "metadata": {},
   "source": [
    "#### Expalantion:"
   ]
  },
  {
   "cell_type": "raw",
   "metadata": {},
   "source": [
    "The assumption is that data from each label is drawn from a simple Gaussian distribution.\n",
    "From this model we are computing the likelihood for each or any data point (image).\n",
    "\n",
    "Accuracy obtained in this model is 58.7%.\n",
    "\n",
    "Will be looking at true positive values (recall) to see what % of images(pixels) are matching with our trained model.\n",
    "from the above we can see recall % varies for different classes (between 4 - 99)\n",
    "class 7 has the highest recall with 99%\n",
    "\n",
    "F1_score is a more useful measure than accuracy for problems with uneven class distribution because it takes into account both false positive and false negatives. f1 score ranges from (7 - 80)\n",
    "class 9 has highest f1 with 77%\n",
    "\n",
    "There is no perfect 1 recieved for either recall/f1 score. We can change the threshold to increase recall value and try getting 1 (which reduces precision).\n",
    "\n",
    "\n",
    "The assumption that all features are independent is not the case in this dataset.\n",
    "so it makeing naive bayes algorithm less accurate compared to other algorithms\n",
    "\n",
    "This model's accuracy matches 58% expected value calculated by the probability framework and the composition of the training dataset.\n",
    "\n",
    "However, going forward with other models for Task2 model prediction."
   ]
  },
  {
   "cell_type": "markdown",
   "metadata": {},
   "source": [
    "----------------------------------- END of MODEL_6 ------------------------------------------------------"
   ]
  },
  {
   "cell_type": "markdown",
   "metadata": {},
   "source": [
    "## MODEL_7 "
   ]
  },
  {
   "cell_type": "markdown",
   "metadata": {},
   "source": [
    "### MODEL_7.1 : K-Nearest Neighbors "
   ]
  },
  {
   "cell_type": "code",
   "execution_count": 40,
   "metadata": {},
   "outputs": [],
   "source": [
    "from sklearn.neighbors import KNeighborsClassifier\n",
    "model = KNeighborsClassifier(n_neighbors=7)\n",
    "model.fit(X_train, y_train);"
   ]
  },
  {
   "cell_type": "code",
   "execution_count": 41,
   "metadata": {},
   "outputs": [
    {
     "data": {
      "text/plain": [
       "85.39999999999999"
      ]
     },
     "execution_count": 41,
     "metadata": {},
     "output_type": "execute_result"
    }
   ],
   "source": [
    "# let's check the performance of model on test set\n",
    "from sklearn.metrics import classification_report, confusion_matrix\n",
    "y_test_hat = model.predict(X_test)\n",
    "accuracy_score(y_test,y_test_hat, normalize = True) * 100 "
   ]
  },
  {
   "cell_type": "code",
   "execution_count": 46,
   "metadata": {},
   "outputs": [
    {
     "name": "stdout",
     "output_type": "stream",
     "text": [
      "Confusion Matrix\n",
      "[[857   1  20  17   5   0  92   1   7   0]\n",
      " [  8 967   6  12   4   0   2   0   1   0]\n",
      " [ 20   2 814  11  78   0  75   0   0   0]\n",
      " [ 35   5  16 869  36   0  37   0   2   0]\n",
      " [  2   0 122  25 760   0  89   0   2   0]\n",
      " [  1   0   0   0   0 806   5 107   1  80]\n",
      " [173   0 129  23  74   0 588   0  13   0]\n",
      " [  0   0   0   0   0   2   0 957   0  41]\n",
      " [  1   1  13   5   7   0  12   7 952   2]\n",
      " [  0   0   0   0   0   1   1  28   0 970]]\n",
      "              precision    recall  f1-score   support\n",
      "\n",
      "           0       0.78      0.86      0.82      1000\n",
      "           1       0.99      0.97      0.98      1000\n",
      "           2       0.73      0.81      0.77      1000\n",
      "           3       0.90      0.87      0.89      1000\n",
      "           4       0.79      0.76      0.77      1000\n",
      "           5       1.00      0.81      0.89      1000\n",
      "           6       0.65      0.59      0.62      1000\n",
      "           7       0.87      0.96      0.91      1000\n",
      "           8       0.97      0.95      0.96      1000\n",
      "           9       0.89      0.97      0.93      1000\n",
      "\n",
      "    accuracy                           0.85     10000\n",
      "   macro avg       0.86      0.85      0.85     10000\n",
      "weighted avg       0.86      0.85      0.85     10000\n",
      "\n"
     ]
    }
   ],
   "source": [
    "print(\"Confusion Matrix\")\n",
    "cf_matrix = confusion_matrix(y_test,y_test_hat)\n",
    "print(cf_matrix)\n",
    "print(classification_report(y_test,y_test_hat))\n"
   ]
  },
  {
   "cell_type": "code",
   "execution_count": 52,
   "metadata": {},
   "outputs": [
    {
     "data": {
      "image/png": "[encoded data removed]",
      "text/plain": [
       "<Figure size 288x288 with 1 Axes>"
      ]
     },
     "metadata": {},
     "output_type": "display_data"
    }
   ],
   "source": [
    "plt.matshow(cf_matrix, cmap = plt.cm.gray)\n",
    "plt.show()"
   ]
  },
  {
   "cell_type": "markdown",
   "metadata": {},
   "source": [
    "#### Expalantion:"
   ]
  },
  {
   "cell_type": "raw",
   "metadata": {},
   "source": [
    "Accuracy Score : 85%\n",
    "\n",
    "Since accuracy recieved is 85%, we need to consider other parameters such as precision, recall and f1 score for further understanding and analysis.\n",
    "\n",
    "Will be looking at true positive values (recall) to see what % of images(pixels) are matching with our trained model.\n",
    "from the above we can see recall % varies for different classes (between 59 - 97)\n",
    "class 1 and class 9 has the highest recall with 97%\n",
    "\n",
    "F1_score is a more useful measure than accuracy for problems with uneven class distribution because it takes into account both false positive and false negatives. f1 score ranges from (75 - 95)\n",
    "class 1 has highest f1 with 98%\n",
    "\n",
    "There is no perfect 1 recieved for either recall/f1 score. We can change the threshold to increase recall value and try getting 1 (which reduces precision).\n",
    "\n",
    "Now instead changing the threshold to increase our recall, We can also tune the model by selecting hyperparameters using StratifiedKFold to predict the model accuracy and other factors."
   ]
  },
  {
   "cell_type": "markdown",
   "metadata": {},
   "source": [
    "### MODEL_7.2 : K-Nearest Neighbors with StratifiedKFold "
   ]
  },
  {
   "cell_type": "code",
   "execution_count": 13,
   "metadata": {},
   "outputs": [
    {
     "name": "stdout",
     "output_type": "stream",
     "text": [
      "Best Parameter: {'n_neighbors': 4}\n",
      "Best Cross Vlidation Score: 0.8570166666666665\n"
     ]
    }
   ],
   "source": [
    "from sklearn.model_selection import GridSearchCV\n",
    "from sklearn.neighbors import KNeighborsClassifier\n",
    "\n",
    "KNN_model = KNeighborsClassifier()\n",
    "\n",
    "param_grid = {'n_neighbors': [1,2,3,4,5,6]}\n",
    "cv = StratifiedKFold(n_splits=5, random_state=0, shuffle=True)\n",
    "grid = GridSearchCV(KNN_model, param_grid, cv = cv, scoring='accuracy',\n",
    "                    return_train_score=True)\n",
    "grid.fit(X_train, y_train)\n",
    "\n",
    "print(\"Best Parameter: {}\".format(grid.best_params_))\n",
    "print(\"Best Cross Vlidation Score: {}\".format(grid.best_score_))"
   ]
  },
  {
   "cell_type": "markdown",
   "metadata": {},
   "source": [
    "#### Expalantion:"
   ]
  },
  {
   "cell_type": "raw",
   "metadata": {},
   "source": [
    "\n",
    "validation Score : 85%\n",
    "\n",
    "Since accuracy recieved is 85%, there is no much difference in the prediction accuracy.\n",
    "Lets run other models and visualize.\n"
   ]
  },
  {
   "cell_type": "markdown",
   "metadata": {},
   "source": [
    "----------------------------------- END of MODEL_7 ------------------------------------------------------"
   ]
  },
  {
   "cell_type": "markdown",
   "metadata": {},
   "source": [
    "### MODEL_8 : SVM "
   ]
  },
  {
   "cell_type": "code",
   "execution_count": 5,
   "metadata": {},
   "outputs": [],
   "source": [
    "from sklearn.decomposition import PCA\n",
    "from sklearn.pipeline import make_pipeline\n",
    "from sklearn.svm import SVC\n",
    "# InitializeDimension Reduction model\n",
    "pca = PCA(svd_solver='randomized', n_components=150, \n",
    "          whiten=True, random_state=0)\n",
    "# Initialize SVC model\n",
    "svc = SVC(kernel='rbf',  class_weight='balanced')\n",
    "# Create pipleline model\n",
    "model = make_pipeline(pca, svc)"
   ]
  },
  {
   "cell_type": "code",
   "execution_count": null,
   "metadata": {},
   "outputs": [],
   "source": [
    "# Let's apply grid search with cross validation to find the best value for C and gamma\n",
    "from sklearn.model_selection import GridSearchCV \n",
    "param_grid = {'svc__C': [.1, 1, 5, 10, 50],\n",
    "              'svc__gamma': [0.0001, 0.0005, 0.001, 0.005]}\n",
    "grid = GridSearchCV(model, param_grid, cv = 10, scoring='accuracy')\n",
    "%time grid.fit(X_train, y_train)\n",
    "print(grid.best_params_)"
   ]
  },
  {
   "cell_type": "markdown",
   "metadata": {},
   "source": [
    "#### Expalantion:"
   ]
  },
  {
   "cell_type": "raw",
   "metadata": {},
   "source": [
    "SVM draws a decision boundary which is a hyperplane between any two classes in order to separate them or classify them. The main idea is to project data to higher dimension such that we can separate different classes using linear separator.\n",
    "\n",
    "Run time for this model was beyond expected and took much much longer time. Had to force stop the kernel.\n",
    "\n",
    "Did consider only very few set of X_train data and When ran the model, accuracy obtained was 61%.\n",
    "\n"
   ]
  },
  {
   "cell_type": "raw",
   "metadata": {},
   "source": [
    "8 different models (with and without hyperparameters) were run for this dataset and various prediction techniques and methods were followed. Based on the obtained results, RANDOM FOREST and KNN are the models chosen at check the results of TASK2."
   ]
  },
  {
   "cell_type": "markdown",
   "metadata": {},
   "source": [
    "### TASK2 :"
   ]
  },
  {
   "cell_type": "code",
   "execution_count": 23,
   "metadata": {},
   "outputs": [
    {
     "name": "stdout",
     "output_type": "stream",
     "text": [
      "Requirement already satisfied: Pillow in /Users/ammu/Desktop/anaconda3/lib/python3.9/site-packages (9.1.0)\n",
      "Note: you may need to restart the kernel to use updated packages.\n"
     ]
    }
   ],
   "source": [
    "pip install Pillow"
   ]
  },
  {
   "cell_type": "code",
   "execution_count": 24,
   "metadata": {},
   "outputs": [
    {
     "name": "stdout",
     "output_type": "stream",
     "text": [
      "Requirement already satisfied: opencv-python in /Users/ammu/Desktop/anaconda3/lib/python3.9/site-packages (4.5.5.64)\n",
      "Requirement already satisfied: numpy>=1.19.3 in /Users/ammu/Desktop/anaconda3/lib/python3.9/site-packages (from opencv-python) (1.20.3)\n",
      "Note: you may need to restart the kernel to use updated packages.\n"
     ]
    }
   ],
   "source": [
    "pip install opencv-python"
   ]
  },
  {
   "cell_type": "code",
   "execution_count": 5,
   "metadata": {},
   "outputs": [
    {
     "name": "stdout",
     "output_type": "stream",
     "text": [
      "Installed Pillow Version: 9.1.0\n"
     ]
    }
   ],
   "source": [
    "import PIL\n",
    "  \n",
    "print('Installed Pillow Version:', PIL.__version__)"
   ]
  },
  {
   "cell_type": "code",
   "execution_count": 6,
   "metadata": {},
   "outputs": [],
   "source": [
    "import cv2\n",
    "import glob"
   ]
  },
  {
   "cell_type": "raw",
   "metadata": {},
   "source": [
    "Loading all the images"
   ]
  },
  {
   "cell_type": "code",
   "execution_count": 7,
   "metadata": {},
   "outputs": [
    {
     "data": {
      "image/png": "[encoded data removed]",
      "text/plain": [
       "<Figure size 576x576 with 5 Axes>"
      ]
     },
     "metadata": {
      "needs_background": "light"
     },
     "output_type": "display_data"
    }
   ],
   "source": [
    "from PIL import Image\n",
    "import matplotlib.pyplot as plt  \n",
    "  \n",
    "files = [cv2.imread(file) for file in glob.glob(\"*.jpeg\")]\n",
    "\n",
    "rows = 1\n",
    "cols = 5\n",
    "for i in range (0, len(files), rows*cols):\n",
    "    fig = plt.figure(figsize=(8,8))\n",
    "    for j in range(0, rows*cols):\n",
    "        fig.add_subplot(rows, cols, j+1)\n",
    "        plt.imshow(files[i+j])\n",
    "    plt.show()"
   ]
  },
  {
   "cell_type": "raw",
   "metadata": {},
   "source": [
    "Resizing, grayscale and visualizing"
   ]
  },
  {
   "cell_type": "code",
   "execution_count": 8,
   "metadata": {},
   "outputs": [
    {
     "data": {
      "image/png": "[encoded data removed]",
      "text/plain": [
       "<Figure size 576x576 with 5 Axes>"
      ]
     },
     "metadata": {
      "needs_background": "light"
     },
     "output_type": "display_data"
    },
    {
     "data": {
      "image/png": "[encoded data removed]",
      "text/plain": [
       "<Figure size 576x576 with 5 Axes>"
      ]
     },
     "metadata": {
      "needs_background": "light"
     },
     "output_type": "display_data"
    }
   ],
   "source": [
    "r_images = []\n",
    "for file in files:\n",
    "    r_images.append(cv2.resize(file, (28, 28)))\n",
    "\n",
    "rows = 1\n",
    "cols = 5\n",
    "for i in range (0, len(r_images), rows*cols):\n",
    "    fig = plt.figure(figsize=(8,8))\n",
    "    for j in range(0, rows*cols):\n",
    "        fig.add_subplot(rows, cols, j+1)\n",
    "        plt.imshow(r_images[i+j])\n",
    "    plt.show()\n",
    "\n",
    "\n",
    "g_r_images = []\n",
    "for r_image in r_images:\n",
    "    g_r_images.append(cv2.cvtColor(r_image, cv2.COLOR_BGR2GRAY))\n",
    "\n",
    "rows = 1\n",
    "cols = 5\n",
    "for i in range (0, len(g_r_images), rows*cols):\n",
    "    fig = plt.figure(figsize=(8,8))\n",
    "    for j in range(0, rows*cols):\n",
    "        fig.add_subplot(rows, cols, j+1)\n",
    "        plt.imshow(g_r_images[i+j])\n",
    "    plt.show()"
   ]
  },
  {
   "cell_type": "code",
   "execution_count": 9,
   "metadata": {},
   "outputs": [
    {
     "data": {
      "text/plain": [
       "[array([[236, 236, 236, 236, 237, 237, 238, 238, 239, 239, 240, 241, 242,\n",
       "         242, 243, 243, 243, 243, 244, 244, 244, 244, 245, 245, 246, 246,\n",
       "         246, 246],\n",
       "        [236, 236, 237, 236, 237, 237, 238, 238, 238, 229, 134, 193, 237,\n",
       "         242, 242, 230, 157, 133, 241, 244, 244, 244, 245, 245, 246, 246,\n",
       "         246, 245],\n",
       "        [236, 237, 237, 237, 237, 238, 237, 204, 124,  53,  37,  35,  41,\n",
       "          55,  52,  38,  28,  39,  69, 157, 232, 244, 245, 246, 246, 246,\n",
       "         246, 246],\n",
       "        [236, 237, 237, 237, 237, 238, 159,  43,  39,  38,  37,  34,  32,\n",
       "          58,  35,  32,  31,  40,  40,  41,  59, 200, 245, 245, 247, 247,\n",
       "         247, 247],\n",
       "        [237, 237, 237, 237, 219,  70,  40,  31,  38,  37,  37,  38,  39,\n",
       "          40,  41,  39,  40,  40,  41,  40,  37,  39, 136, 244, 246, 246,\n",
       "         247, 247],\n",
       "        [236, 237, 237, 237, 153,  41,  38,  28,  37,  37,  37,  38,  39,\n",
       "          39,  39,  40,  40,  40,  41,  39,  37,  38,  44, 200, 246, 246,\n",
       "         247, 247],\n",
       "        [236, 237, 237, 226,  60,  40,  37,  26,  37,  37,  37,  38,  38,\n",
       "          38,  39,  40,  40,  40,  42,  40,  37,  36,  39,  79, 244, 247,\n",
       "         247, 247],\n",
       "        [237, 237, 236, 128,  38,  37,  34,  24,  34,  35,  36,  37,  37,\n",
       "          37,  38,  39,  40,  37,  40,  40,  38,  34,  39,  38, 163, 245,\n",
       "         246, 246],\n",
       "        [237, 236, 231,  79,  38,  36,  34,  25,  35,  35,  35,  37,  36,\n",
       "          37,  37,  39,  39,  37,  39,  39,  38,  34,  40,  39,  92, 245,\n",
       "         246, 246],\n",
       "        [236, 235, 221,  56,  38,  35,  34,  27,  35,  35,  35,  36,  35,\n",
       "          35,  36,  38,  39,  36,  39,  38,  39,  33,  40,  39,  87, 244,\n",
       "         245, 246],\n",
       "        [236, 235, 228, 167,  41,  37,  35,  31,  35,  35,  33,  36,  35,\n",
       "          35,  35,  37,  38,  35,  39,  38,  40,  33,  45,  77, 219, 245,\n",
       "         246, 246],\n",
       "        [236, 236, 236, 236, 236, 225, 148,  54,  36,  34,  33,  35,  33,\n",
       "          34,  34,  37,  37,  33,  39,  37,  52, 133, 236, 244, 245, 245,\n",
       "         246, 246],\n",
       "        [236, 236, 237, 237, 237, 236, 215,  72,  36,  33,  33,  36,  33,\n",
       "          35,  34,  37,  37,  32,  38,  36,  57, 242, 244, 244, 245, 245,\n",
       "         246, 245],\n",
       "        [236, 236, 236, 237, 237, 236, 215,  70,  36,  31,  34,  37,  33,\n",
       "          34,  35,  37,  37,  30,  39,  36,  54, 242, 243, 244, 245, 245,\n",
       "         245, 245],\n",
       "        [235, 235, 236, 236, 237, 237, 216,  67,  36,  28,  37,  36,  32,\n",
       "          33,  35,  37,  37,  29,  40,  34,  45, 241, 244, 244, 245, 245,\n",
       "         245, 245],\n",
       "        [235, 235, 235, 235, 237, 237, 218,  66,  35,  28,  37,  36,  32,\n",
       "          32,  35,  37,  36,  29,  39,  35,  42, 238, 244, 244, 244, 244,\n",
       "         245, 245],\n",
       "        [235, 235, 235, 235, 236, 236, 218,  66,  33,  30,  37,  36,  32,\n",
       "          31,  35,  37,  36,  28,  39,  35,  41, 235, 242, 243, 244, 244,\n",
       "         245, 244],\n",
       "        [234, 234, 235, 235, 235, 235, 215,  63,  28,  33,  36,  35,  30,\n",
       "          29,  34,  37,  33,  27,  40,  35,  39, 232, 242, 242, 244, 244,\n",
       "         244, 244],\n",
       "        [234, 234, 235, 235, 235, 235, 216,  63,  27,  34,  35,  35,  30,\n",
       "          28,  33,  36,  32,  27,  40,  35,  38, 233, 241, 244, 244, 244,\n",
       "         244, 244],\n",
       "        [234, 234, 234, 234, 236, 236, 219,  64,  28,  34,  35,  36,  30,\n",
       "          27,  32,  36,  31,  26,  40,  35,  37, 235, 242, 243, 244, 244,\n",
       "         244, 244],\n",
       "        [234, 234, 234, 233, 235, 235, 224,  66,  30,  33,  34,  34,  30,\n",
       "          25,  34,  35,  30,  27,  40,  37,  37, 237, 242, 243, 243, 243,\n",
       "         244, 243],\n",
       "        [233, 234, 233, 233, 233, 233, 229,  73,  33,  33,  35,  35,  30,\n",
       "          25,  34,  37,  29,  27,  41,  38,  36, 236, 240, 241, 241, 241,\n",
       "         242, 241],\n",
       "        [232, 232, 233, 233, 233, 233, 230,  81,  35,  33,  36,  35,  30,\n",
       "          25,  34,  37,  28,  27,  42,  40,  36, 236, 238, 239, 241, 241,\n",
       "         241, 241],\n",
       "        [232, 232, 233, 233, 233, 233, 229,  84,  34,  34,  38,  38,  32,\n",
       "          27,  36,  39,  29,  30,  44,  41,  40, 237, 238, 238, 240, 240,\n",
       "         240, 241],\n",
       "        [232, 233, 233, 233, 232, 233, 232, 230, 222, 220, 227, 232, 231,\n",
       "         230, 233, 233, 229, 227, 233, 236, 237, 238, 238, 238, 238, 239,\n",
       "         240, 240],\n",
       "        [231, 232, 232, 232, 232, 233, 232, 231, 231, 231, 232, 233, 233,\n",
       "         234, 236, 235, 234, 235, 237, 237, 237, 238, 238, 238, 238, 238,\n",
       "         238, 238],\n",
       "        [231, 231, 231, 231, 232, 233, 232, 232, 233, 233, 233, 234, 234,\n",
       "         234, 235, 236, 236, 237, 237, 237, 238, 238, 238, 238, 238, 238,\n",
       "         238, 238],\n",
       "        [231, 231, 231, 230, 232, 232, 232, 232, 232, 233, 233, 234, 234,\n",
       "         234, 234, 233, 235, 235, 237, 237, 237, 236, 238, 238, 238, 238,\n",
       "         238, 237]], dtype=uint8),\n",
       " array([[247, 252, 253, 251, 253, 255, 252, 243, 252, 255, 240, 255, 252,\n",
       "         255, 241, 255, 255, 245, 246, 255, 255, 249, 251, 253, 246, 253,\n",
       "         255, 249],\n",
       "        [251, 249, 251, 255, 253, 249, 250, 255, 241, 255, 255, 255, 239,\n",
       "         183, 157, 177, 165, 169, 200, 237, 251, 254, 254, 249, 250, 244,\n",
       "         241, 243],\n",
       "        [254, 248, 250, 255, 253, 245, 248, 255, 252, 255, 255, 228, 216,\n",
       "         132, 113, 153, 150, 136, 144, 176, 215, 249, 255, 248, 255, 245,\n",
       "         241, 249],\n",
       "        [252, 251, 251, 253, 253, 250, 246, 244, 224, 215, 189, 176, 187,\n",
       "         123, 106, 162, 139, 151, 163, 155, 144, 168, 211, 234, 241, 244,\n",
       "         251, 255],\n",
       "        [248, 255, 253, 247, 254, 255, 238, 206, 173, 179, 155, 174, 183,\n",
       "         139, 102, 153, 158, 152, 151, 150, 156, 174, 178, 162, 192, 225,\n",
       "         252, 255],\n",
       "        [246, 255, 254, 244, 254, 255, 221, 166, 157, 180, 167, 187, 175,\n",
       "         139,  97, 136, 142, 143, 147, 144, 141, 157, 176, 176, 151, 203,\n",
       "         246, 252],\n",
       "        [250, 255, 251, 247, 255, 249, 198, 139, 160, 176, 170, 165, 156,\n",
       "         130, 112, 130, 145, 121, 110, 119, 140, 165, 173, 161, 147, 194,\n",
       "         240, 255],\n",
       "        [255, 252, 249, 251, 255, 236, 181, 128, 170, 174, 177, 158, 172,\n",
       "         155, 154, 149, 125, 133, 159, 179, 177, 170, 164, 153, 159, 193,\n",
       "         235, 255],\n",
       "        [241, 255, 238, 255, 255, 224, 125, 138, 162, 145, 139, 153, 144,\n",
       "         141, 163, 156, 139, 145, 148, 160, 159, 148, 151, 152, 144, 152,\n",
       "         230, 255],\n",
       "        [250, 255, 247, 252, 254, 202, 120, 134, 160, 143, 134, 147, 135,\n",
       "         127, 148, 146, 128, 135, 142, 152, 149, 135, 132, 131, 145, 150,\n",
       "         222, 255],\n",
       "        [254, 255, 254, 246, 246, 176, 112, 134, 160, 146, 136, 148, 136,\n",
       "         125, 145, 150, 129, 138, 153, 161, 155, 143, 134, 133, 148, 147,\n",
       "         208, 255],\n",
       "        [249, 252, 252, 249, 227, 159, 103, 139, 156, 151, 141, 152, 145,\n",
       "         134, 154, 163, 132, 142, 166, 170, 165, 159, 147, 151, 153, 144,\n",
       "         190, 255],\n",
       "        [245, 254, 248, 254, 201, 148,  93, 141, 146, 153, 144, 150, 150,\n",
       "         142, 157, 164, 127, 137, 166, 163, 157, 158, 145, 154, 159, 141,\n",
       "         172, 254],\n",
       "        [247, 255, 247, 249, 177, 136,  89, 142, 141, 162, 152, 151, 156,\n",
       "         152, 158, 156, 132, 139, 173, 162, 152, 157, 141, 154, 166, 140,\n",
       "         155, 252],\n",
       "        [249, 255, 250, 230, 164, 124,  99, 148, 136, 170, 159, 151, 162,\n",
       "         164, 161, 147, 136, 144, 182, 166, 154, 160, 139, 154, 172, 139,\n",
       "         142, 251],\n",
       "        [249, 251, 253, 212, 160, 116, 112, 156, 127, 168, 159, 147, 162,\n",
       "         169, 161, 140, 128, 137, 180, 163, 150, 157, 134, 149, 175, 139,\n",
       "         136, 251],\n",
       "        [255, 255, 252, 174, 164, 105, 116, 153, 122, 171, 159, 142, 158,\n",
       "         159, 152, 141, 125, 143, 167, 155, 145, 150, 145, 151, 179, 125,\n",
       "         154, 241],\n",
       "        [254, 255, 239, 172, 160, 104, 123, 153, 121, 168, 157, 141, 153,\n",
       "         155, 151, 141, 120, 137, 158, 143, 135, 148, 149, 156, 171, 122,\n",
       "         152, 239],\n",
       "        [253, 255, 219, 169, 153, 104, 134, 152, 120, 163, 154, 139, 147,\n",
       "         149, 150, 142, 120, 137, 153, 132, 125, 147, 152, 159, 154, 114,\n",
       "         146, 230],\n",
       "        [252, 255, 198, 165, 145, 110, 145, 151, 121, 159, 152, 139, 141,\n",
       "         145, 150, 141, 123, 142, 155, 127, 120, 148, 155, 157, 140, 112,\n",
       "         145, 225],\n",
       "        [252, 251, 182, 162, 136, 122, 151, 151, 126, 156, 151, 141, 139,\n",
       "         143, 152, 139, 119, 143, 156, 124, 119, 153, 158, 153, 135, 119,\n",
       "         151, 225],\n",
       "        [252, 240, 173, 161, 130, 139, 152, 151, 134, 156, 152, 146, 142,\n",
       "         145, 154, 136, 111, 141, 156, 121, 119, 159, 163, 152, 132, 125,\n",
       "         156, 223],\n",
       "        [252, 229, 169, 160, 125, 155, 150, 151, 142, 157, 153, 150, 146,\n",
       "         149, 157, 133, 114, 146, 160, 121, 120, 164, 168, 153, 136, 136,\n",
       "         165, 226],\n",
       "        [252, 222, 169, 160, 123, 166, 148, 152, 148, 158, 154, 154, 149,\n",
       "         152, 158, 131, 123, 156, 167, 124, 121, 166, 170, 153, 147, 151,\n",
       "         179, 236],\n",
       "        [252, 213, 166, 139, 137, 148, 162, 172, 150, 158, 165, 162, 150,\n",
       "         139, 133, 132, 121, 161, 166, 132, 128, 163, 177, 157, 134, 134,\n",
       "         190, 249],\n",
       "        [246, 243, 231, 207, 183, 180, 207, 237, 165, 153, 141, 140, 148,\n",
       "         155, 154, 149, 136, 166, 165, 129, 116, 133, 134, 112, 173, 171,\n",
       "         214, 255],\n",
       "        [253, 253, 252, 247, 237, 233, 243, 255, 255, 228, 191, 165, 152,\n",
       "         143, 130, 119, 135, 152, 152, 140, 155, 198, 229, 233, 220, 217,\n",
       "         242, 255],\n",
       "        [255, 243, 236, 246, 255, 255, 246, 235, 255, 254, 247, 239, 235,\n",
       "         238, 246, 253, 242, 253, 255, 251, 252, 255, 255, 250, 245, 244,\n",
       "         255, 255]], dtype=uint8),\n",
       " array([[243, 242, 255, 237, 255, 240, 234, 253, 252, 245, 249, 255, 253,\n",
       "         253, 253, 249, 235, 255, 238, 244, 245, 252, 238, 254, 253, 253,\n",
       "         253, 253],\n",
       "        [251, 247, 249, 230, 252, 253, 255, 250, 255, 248, 255, 239, 239,\n",
       "         198, 218, 236, 252, 232, 253, 255, 244, 255, 255, 241, 254, 253,\n",
       "         253, 253],\n",
       "        [253, 246, 246, 246, 253, 246, 255, 239, 237, 253, 253, 142, 139,\n",
       "         113, 185, 216, 243, 222, 201, 180, 154, 159, 178, 255, 255, 254,\n",
       "         253, 252],\n",
       "        [254, 243, 245, 255, 247, 233, 255, 252, 255, 255, 214,  74,  72,\n",
       "          61, 123, 148,  91, 104,  78, 101,  50,   8,  37, 201, 255, 255,\n",
       "         254, 253],\n",
       "        [255, 247, 242, 245, 233, 246, 255, 243, 233, 196, 139,  94, 114,\n",
       "          93,  94, 113, 115, 112, 150, 236, 178,  23,  13, 103, 252, 254,\n",
       "         255, 253],\n",
       "        [244, 250, 251, 234, 234, 255, 212, 151, 116, 114,  96, 108, 122,\n",
       "         123, 108, 120, 106,  85, 118, 189, 255,  83,  21,  70, 248, 251,\n",
       "         255, 255],\n",
       "        [241, 243, 255, 242, 244, 255, 140,  76,  70, 100, 104, 100,  86,\n",
       "         104, 105, 107, 130, 112,  83,  82, 233, 138,  15,  84, 243, 249,\n",
       "         255, 255],\n",
       "        [255, 235, 253, 248, 246, 237, 106,  85,  98,  92,  96, 107, 102,\n",
       "         106, 110, 111,  98,  87,  75,  72, 174, 193,  33,  87, 240, 247,\n",
       "         255, 255],\n",
       "        [255, 243, 254, 255, 255, 170,  85,  94,  86,  88,  90,  92,  93,\n",
       "          96, 100, 103, 102,  93,  60,  65, 136, 203,  53,  80, 230, 255,\n",
       "         241, 232],\n",
       "        [255, 246, 254, 251, 249, 134,  71,  78,  75,  74,  72,  73,  78,\n",
       "          84,  91,  95,  93,  87,  61,  64, 128, 219,  61,  69, 220, 252,\n",
       "         242, 236],\n",
       "        [252, 251, 255, 255, 242, 108,  83,  86,  91,  88,  85,  85,  88,\n",
       "          89,  88,  86,  93,  85,  59,  52, 107, 244,  92,  74, 220, 254,\n",
       "         245, 236],\n",
       "        [250, 253, 253, 255, 231,  88,  96,  93,  98,  97,  98, 102, 103,\n",
       "          97,  85,  74,  88,  82,  64,  50,  90, 255, 118,  64, 224, 255,\n",
       "         248, 235],\n",
       "        [250, 253, 245, 251, 202,  67,  90,  80,  80,  81,  85,  91,  94,\n",
       "          89,  77,  67,  76,  76,  71,  58,  85, 255, 146,  51, 209, 253,\n",
       "         249, 239],\n",
       "        [250, 254, 245, 251, 175,  68,  92,  82,  85,  83,  82,  82,  83,\n",
       "          81,  75,  70,  75,  72,  67,  54,  78, 254, 207,  95, 185, 240,\n",
       "         250, 247],\n",
       "        [249, 255, 252, 252, 148,  69,  88,  84,  88,  86,  84,  82,  79,\n",
       "          75,  72,  71,  77,  71,  65,  54,  77, 239, 255, 133, 185, 242,\n",
       "         253, 247],\n",
       "        [248, 255, 254, 246, 117,  52,  63,  63,  59,  63,  69,  72,  70,\n",
       "          67,  63,  62,  68,  70,  75,  72,  87, 220, 253, 112, 203, 255,\n",
       "         255, 242],\n",
       "        [255, 246, 254, 229,  87,  30,  47,  46,  50,  42,  47,  51,  40,\n",
       "          39,  57,  70,  74,  66,  69,  80,  58, 126, 228,  87, 164, 253,\n",
       "         255, 248],\n",
       "        [247, 255, 252, 186,  42,  35,  50,  49,  49,  43,  46,  49,  42,\n",
       "          43,  54,  62,  75,  73,  84,  83,  63, 104, 228,  77, 169, 253,\n",
       "         255, 250],\n",
       "        [242, 255, 254, 155,  20,  43,  48,  54,  53,  51,  50,  50,  48,\n",
       "          50,  57,  62,  73,  73,  89,  69,  58,  70, 194,  60, 179, 254,\n",
       "         255, 252],\n",
       "        [246, 255, 255, 147,  37,  47,  43,  57,  53,  56,  51,  46,  47,\n",
       "          48,  54,  65,  78,  78,  88,  58,  63,  63, 133,  56, 191, 254,\n",
       "         253, 255],\n",
       "        [252, 248, 255, 131,  44,  42,  49,  53,  48,  53,  47,  43,  46,\n",
       "          40,  44,  65,  67,  69,  76,  51,  72,  73,  68,  43, 203, 253,\n",
       "         251, 255],\n",
       "        [253, 251, 250, 127,  33,  38,  60,  48,  49,  54,  50,  57,  66,\n",
       "          48,  41,  66,  81,  86,  94,  80, 105, 112,  85,  57, 213, 252,\n",
       "         249, 255],\n",
       "        [251, 255, 248, 181,  50,  43,  60,  52,  53,  55,  56,  82, 102,\n",
       "          69,  42,  63,  63,  66,  72,  58,  76,  91, 122,  37, 221, 251,\n",
       "         246, 255],\n",
       "        [251, 255, 251, 253,  88,  53,  51,  59,  51,  51,  57,  97, 126,\n",
       "          83,  39,  54,  81,  78,  79,  58,  67,  88, 191,  52, 225, 250,\n",
       "         245, 255],\n",
       "        [240, 249, 255, 231, 144,  54,  34,  62,  49,  50,  53,  56,  58,\n",
       "          55,  49,  44,  70,  80,  81,  48,  67, 172, 178,  58, 247, 250,\n",
       "         253, 255],\n",
       "        [253, 251, 251, 241, 200, 132,  65,  26,  36,  33,  30,  31,  35,\n",
       "          42,  46,  49,  52,  61,  77,  96, 162, 248, 199,  49, 247, 250,\n",
       "         253, 255],\n",
       "        [238, 248, 254, 253, 252, 238, 196, 154, 127, 115,  96,  77,  63,\n",
       "          53,  47,  44,  66,  68, 123, 203, 243, 242, 226, 210, 247, 250,\n",
       "         253, 255],\n",
       "        [236, 252, 255, 245, 245, 255, 255, 251, 244, 240, 235, 231, 229,\n",
       "         227, 225, 223, 214, 226, 242, 255, 255, 252, 245, 250, 247, 250,\n",
       "         253, 255]], dtype=uint8),\n",
       " array([[136, 136, 143, 153, 116, 110,  91,  71, 104, 124, 145, 113, 154,\n",
       "         195, 195, 160, 163, 223, 242, 227, 235, 244, 243, 251, 255, 246,\n",
       "         241, 247],\n",
       "        [141, 139, 135, 133,  97, 106, 101,  88,  65,  84, 146,  98,  82,\n",
       "         167, 183,  51,  31, 133, 219, 226, 218, 245, 255, 249, 254, 246,\n",
       "         242, 245],\n",
       "        [142, 155, 161, 154, 110, 115, 101,  77, 137,  22,  27,  37,  31,\n",
       "          84, 108,  25,  59,  53, 137, 242, 255, 229, 235, 250, 243, 240,\n",
       "         240, 243],\n",
       "        [110, 149, 183, 193, 159, 171, 158, 129,  82,  20,  14,  32,  52,\n",
       "          59,  30,   0,  90,  56,  87, 176, 236, 255, 255, 249, 245, 247,\n",
       "         248, 249],\n",
       "        [164, 199, 223, 220, 177, 184, 168, 136,  84,  55,  46,  52,  41,\n",
       "          12,  20,  98,  74,  78,  83, 115, 163, 184, 195, 219, 240, 241,\n",
       "         237, 230],\n",
       "        [209, 227, 234, 223, 174, 169, 135,  90,  78,  77,  82,  68,  44,\n",
       "          74,  80,  82,  87,  73,  76, 111, 105,  39,  47, 143, 219, 230,\n",
       "         231, 219],\n",
       "        [171, 179, 187, 201, 181, 186, 144,  90, 105,  37,  33,  78,  70,\n",
       "          82,  70,  70,  69,  68,  75,  75,  41,   2,  23,  82, 175, 213,\n",
       "         243, 244],\n",
       "        [210, 194, 180, 188, 171, 172, 120,  57,  46,  43,  45,  48,  29,\n",
       "          56,  50,  61,  67,  65,  74,  50,   0,   3,  53,  82, 103, 168,\n",
       "         232, 251],\n",
       "        [212, 208, 211, 174, 179, 194, 111,  32,  25,  34,  44,  50,  53,\n",
       "          55,  57,  58,  75,  67,  48,  18,   0,  11,  60, 106, 118,  96,\n",
       "         158, 252],\n",
       "        [205, 196, 191, 207, 203, 217, 185,  43,  46,  43,  44,  50,  53,\n",
       "          56,  67,  79,  58,  49,  26,   2,   3,  32,  70,  92,  77,  61,\n",
       "          88, 156],\n",
       "        [197, 206, 209, 221, 216, 231, 197,  56,  37,  30,  37,  62,  83,\n",
       "          85,  79,  76,  51,  43,  23,  12,  32,  68,  83,  77,  84, 101,\n",
       "          98, 112],\n",
       "        [206, 221, 232, 207, 224, 227, 128,  53,  44,  39,  48,  81, 122,\n",
       "         136, 112,  82,  74,  66,  56,  59,  80,  99,  95,  79,  79,  78,\n",
       "          76, 105],\n",
       "        [230, 216, 225, 225, 228, 177,  72,  41,  53,  54,  51,  60,  90,\n",
       "         115, 104,  75,  53,  43,  40,  50,  58,  55,  51,  52,  81,  46,\n",
       "          77, 173],\n",
       "        [237, 220, 226, 255, 186,  78,  57,  43,  41,  53,  53,  39,  37,\n",
       "          49,  51,  42,  59,  49,  47,  54,  51,  42,  51,  71,  54,  83,\n",
       "         154, 229],\n",
       "        [225, 237, 226, 199, 107,  34,  52,  54,  44,  52,  58,  54,  41,\n",
       "          31,  32,  38,  47,  46,  48,  48,  43,  42,  56,  75,  85, 173,\n",
       "         232, 246],\n",
       "        [214, 244, 203,  82,  51,  72,  48,  56,  53,  39,  39,  52,  50,\n",
       "          36,  37,  53,  39,  49,  56,  53,  51,  57,  67,  73, 146, 196,\n",
       "         204, 221],\n",
       "        [231, 255, 116,  54,  65,  58,  43,  55,  48,  54,  58,  53,  44,\n",
       "          39,  43,  50,  46,  47,  63,  53,  57,  60,  69, 144, 184, 203,\n",
       "         224, 233],\n",
       "        [226, 234, 108,  42,  63,  51,  55,  32,  46,  49,  52,  51,  48,\n",
       "          46,  47,  50,  55,  56,  42,  60,  55,  59, 135, 181, 210, 218,\n",
       "         224, 222],\n",
       "        [240, 211, 158,  64,  49,  36,  41,  45,  54,  54,  55,  56,  57,\n",
       "          57,  55,  53,  60,  47,  43,  70,  60,  84, 184, 225, 237, 240,\n",
       "         237, 230],\n",
       "        [226, 209, 185, 144, 116, 104, 135, 131,  59,  60,  61,  61,  61,\n",
       "          59,  56,  54,  52,  56,  83,  61,  79, 169, 221, 243, 239, 243,\n",
       "         245, 244],\n",
       "        [194, 218, 168, 209, 207, 200, 211, 118,  53,  57,  60,  59,  55,\n",
       "          53,  53,  55,  51,  79,  82,  47, 120, 241, 255, 243, 231, 237,\n",
       "         243, 245],\n",
       "        [186, 199, 211, 224, 227, 244, 138,  44,  50,  54,  58,  58,  55,\n",
       "          55,  59,  64,  65,  65,  28,  80, 177, 217, 240, 242, 239, 245,\n",
       "         249, 248],\n",
       "        [204, 190, 245, 231, 229, 204,  68,  54,  57,  57,  56,  57,  58,\n",
       "          61,  64,  66,  63,  57,  70, 161, 209, 185, 201, 221, 237, 247,\n",
       "         253, 252],\n",
       "        [236, 227, 197, 234, 234,  91,  52,  59,  62,  56,  51,  51,  56,\n",
       "          60,  60,  58,  39,  91, 202, 228, 206, 211, 196, 187, 214, 230,\n",
       "         244, 248],\n",
       "        [242, 249, 246, 236, 172,  46,  40,  65,  54,  37,  49,  61,  62,\n",
       "          52,  35,  46, 119, 198, 254, 249, 223, 205, 199, 202, 197, 207,\n",
       "         220, 230],\n",
       "        [233, 239, 236, 233, 181,  56,  27,  24,  54,  58,  71,  47,  19,\n",
       "          32,  84, 154, 199, 225, 243, 248, 242, 219, 197, 194, 199, 205,\n",
       "         212, 215],\n",
       "        [227, 233, 230, 240, 217, 111,  70,  41,  49,  33,  35,  41,  79,\n",
       "         140, 184, 221, 255, 237, 226, 244, 255, 236, 213, 217, 215, 215,\n",
       "         214, 212],\n",
       "        [230, 233, 226, 243, 246, 168, 132,  92,  84,  84, 105, 131, 187,\n",
       "         247, 255, 255, 255, 235, 221, 242, 255, 240, 230, 249, 231, 228,\n",
       "         223, 218]], dtype=uint8),\n",
       " array([[248, 219, 233, 247, 231, 255, 238, 245, 196,  82,  31,  25,  29,\n",
       "          24,   8,  27,  21,  30,  89, 199, 255, 254, 251, 255, 227, 241,\n",
       "         251, 255],\n",
       "        [224, 255, 255, 230, 255, 215, 173,  73,  51,  17,  27,  14,   3,\n",
       "          18,  32,  11,   8,  45,  41,  30,  86, 182, 245, 252, 255, 219,\n",
       "         253, 247],\n",
       "        [240, 249, 233, 244, 182,  78,  30,  12,  25,  25,  46,  27,  20,\n",
       "          42,  76,  19,  26,  15,  17,  37,  35,  18,  78, 190, 243, 238,\n",
       "         241, 250],\n",
       "        [253, 254, 250, 176,  39,  20,   6,  34,  23,  26,  27,  19,  33,\n",
       "          34,  73,  36,  25,  48,  41,   9,  13,  24,  18,  32, 147, 255,\n",
       "         231, 254],\n",
       "        [254, 253, 214,  52,   7,  23,  36,  28,  20,  39,  28,  24,  37,\n",
       "          10,  30,  32,  25,  19,  23,  20,  35,  34,   8,  18,  45, 193,\n",
       "         250, 246],\n",
       "        [255, 230,  87,   9,  36,  18,  17,  33,  18,  30,  15,  25,  36,\n",
       "          26,  19,  25,  35,  20,  42,  35,  25,  26,  14,  34,  12,  73,\n",
       "         252, 238],\n",
       "        [251, 182,  31,  20,  23,  36,  25,  34,  32,  22,  57, 127, 130,\n",
       "         151, 133, 134, 121,  31,  18,  20,  18,  27,  13,  26,  24,  13,\n",
       "         166, 239],\n",
       "        [254,  61,  19,  24,  21,  17,  27,  15,  26,  15, 123, 251, 210,\n",
       "         217, 194, 203, 101,  22,  31,  32,  19,  33,  18,  13,  30,  21,\n",
       "          52, 241],\n",
       "        [190,  19,  24,  23,  13,  15,  14,  24,  12,  73, 179, 225, 206,\n",
       "         199, 201, 177,  84,  63,  73,  48,  23,  29,   8,  16,  29,  14,\n",
       "          44, 224],\n",
       "        [140,  29,  17,  23,  18,  11,  31,  25,  44, 157,  79,  86, 121,\n",
       "         146, 201, 206, 121,  73,  47,  18,  14,  27,  16,  29,  26,  16,\n",
       "          21, 141],\n",
       "        [255, 161,  60,  25,  17,   0,  23,   3,  77, 248, 158, 178, 212,\n",
       "         184, 119,  36,  32,  14,  17,  24,  38,  22,   0,   8,   9,  75,\n",
       "         142, 241],\n",
       "        [239, 255, 231, 176,  93,   6,   8,  42,  81, 227, 236, 171,  70,\n",
       "          39,  19,  18,  28,  29,  34,  33,  31,   2,  36,  87, 200, 244,\n",
       "         255, 255],\n",
       "        [234, 243, 255, 255, 245, 154,  26,  14,  19,  40,  67,  35,   6,\n",
       "          28,  32,  39,  23,  27,  25,  20,  22,  24, 156, 255, 241, 249,\n",
       "         236, 227],\n",
       "        [255, 238, 249, 251, 255, 194,  25,  21,  36,  33,  14,  18,  37,\n",
       "          24,  26,  25,  29,  31,  32,  32,  25,  19, 171, 255, 255, 249,\n",
       "         234, 227],\n",
       "        [253, 238, 250, 246, 249, 191,  23,  26,  11,  31,   6,  39,  48,\n",
       "          32,  31,  29,  28,  18,  20,  29,  24,  24, 196, 255, 241, 247,\n",
       "         255, 255],\n",
       "        [254, 254, 255, 255, 251, 192,  28,  14,  30,  31,  21,  44,   6,\n",
       "          33,  30,  27,  36,  21,  22,  29,  16,  16, 198, 246, 251, 247,\n",
       "         247, 255],\n",
       "        [254, 254, 253, 255, 250, 197,  22,  25,  22,  23,  25,  26,  27,\n",
       "          28,  28,  28,  25,  23,  20,  28,  23,  21, 192, 253, 253, 253,\n",
       "         253, 253],\n",
       "        [254, 254, 253, 255, 251, 197,  22,  25,  22,  23,  24,  26,  27,\n",
       "          28,  28,  28,  25,  23,  20,  27,  23,  21, 192, 253, 253, 253,\n",
       "         253, 253],\n",
       "        [254, 254, 252, 255, 251, 198,  22,  24,  22,  23,  24,  26,  27,\n",
       "          28,  28,  28,  25,  23,  20,  27,  22,  21, 192, 254, 253, 253,\n",
       "         253, 253],\n",
       "        [254, 253, 252, 255, 253, 199,  22,  23,  21,  22,  24,  25,  27,\n",
       "          27,  28,  28,  25,  23,  19,  26,  22,  21, 193, 255, 253, 253,\n",
       "         253, 253],\n",
       "        [255, 253, 251, 255, 254, 201,  22,  21,  21,  22,  23,  25,  26,\n",
       "          27,  27,  27,  25,  22,  18,  25,  21,  21, 194, 255, 253, 253,\n",
       "         253, 253],\n",
       "        [255, 253, 250, 255, 255, 202,  22,  20,  20,  21,  23,  25,  26,\n",
       "          27,  27,  27,  25,  22,  18,  25,  21,  21, 195, 255, 253, 253,\n",
       "         253, 253],\n",
       "        [255, 252, 250, 255, 255, 203,  22,  19,  20,  21,  23,  24,  26,\n",
       "          26,  26,  26,  25,  22,  17,  24,  21,  21, 195, 255, 253, 253,\n",
       "         253, 253],\n",
       "        [255, 252, 249, 255, 255, 203,  22,  18,  20,  21,  23,  24,  25,\n",
       "          26,  26,  26,  25,  22,  17,  24,  20,  21, 195, 255, 253, 253,\n",
       "         253, 253],\n",
       "        [255, 255, 243, 243, 255, 202,  19,  31,  19,  20,  24,  28,  31,\n",
       "          30,  27,  23,  34,  13,  13,  16,  25,  21, 200, 246, 253, 253,\n",
       "         253, 253],\n",
       "        [252, 255, 250, 250, 251, 200,  14,   8,  16,  17,  19,  23,  26,\n",
       "          27,  24,  22,  30,  24,  31,  23,  19,  16, 205, 255, 253, 253,\n",
       "         253, 253],\n",
       "        [245, 247, 254, 255, 252, 221,  50,  27,  22,  21,  20,  21,  22,\n",
       "          22,  21,  19,   7,  12,  26,  16,  16,  18, 201, 241, 253, 253,\n",
       "         253, 253],\n",
       "        [246, 242, 255, 255, 250, 244,  95,  64,  36,  32,  27,  23,  21,\n",
       "          20,  18,  16,  34,  40,  54,  54,  75,  87, 248, 255, 253, 253,\n",
       "         253, 253]], dtype=uint8)]"
      ]
     },
     "execution_count": 9,
     "metadata": {},
     "output_type": "execute_result"
    }
   ],
   "source": [
    "g_r_images"
   ]
  },
  {
   "cell_type": "raw",
   "metadata": {},
   "source": [
    "storing the resized, grayscaled images in nparray format"
   ]
  },
  {
   "cell_type": "code",
   "execution_count": 10,
   "metadata": {},
   "outputs": [],
   "source": [
    "import numpy as np\n",
    "np_img = np.array(g_r_images)\n"
   ]
  },
  {
   "cell_type": "code",
   "execution_count": 11,
   "metadata": {},
   "outputs": [
    {
     "data": {
      "text/plain": [
       "(5, 28, 28)"
      ]
     },
     "execution_count": 11,
     "metadata": {},
     "output_type": "execute_result"
    }
   ],
   "source": [
    "np_img.shape"
   ]
  },
  {
   "cell_type": "code",
   "execution_count": 12,
   "metadata": {},
   "outputs": [],
   "source": [
    "X1_test = np_img.reshape(5, 784)"
   ]
  },
  {
   "cell_type": "code",
   "execution_count": 13,
   "metadata": {},
   "outputs": [
    {
     "data": {
      "text/plain": [
       "(5, 784)"
      ]
     },
     "execution_count": 13,
     "metadata": {},
     "output_type": "execute_result"
    }
   ],
   "source": [
    "X1_test.shape"
   ]
  },
  {
   "cell_type": "raw",
   "metadata": {},
   "source": [
    "now running the images in our models"
   ]
  },
  {
   "cell_type": "code",
   "execution_count": 14,
   "metadata": {},
   "outputs": [],
   "source": [
    "from sklearn.tree import DecisionTreeClassifier \n",
    "from sklearn.ensemble import BaggingClassifier\n",
    "from sklearn.metrics import accuracy_score\n",
    "\n",
    "# initialize decision tree\n",
    "tree = DecisionTreeClassifier()\n",
    "# initialize bagging with 50 decision trees (each tree use 80% of training data)\n",
    "bag = BaggingClassifier(tree, n_estimators=50, \n",
    "                        max_samples=0.5, random_state=0)\n",
    "\n",
    "# fit the bagging model\n",
    "bag.fit(X_train, y_train)\n",
    "\n",
    "\n",
    "y_test_hat  = bag.predict(X1_test)\n"
   ]
  },
  {
   "cell_type": "code",
   "execution_count": 15,
   "metadata": {},
   "outputs": [
    {
     "name": "stdout",
     "output_type": "stream",
     "text": [
      "Bag\n"
     ]
    }
   ],
   "source": [
    "class_names = ['T-shirt/top','Trouser','Pullover','Dress','Coat','Sandal','Shirt','Sneaker','Bag','Ankle boot']\n",
    "print(class_names[y_test_hat[2]])"
   ]
  },
  {
   "cell_type": "code",
   "execution_count": 16,
   "metadata": {},
   "outputs": [],
   "source": [
    "from sklearn.neighbors import KNeighborsClassifier\n",
    "model = KNeighborsClassifier(n_neighbors=7)\n",
    "model.fit(X_train, y_train)\n",
    "y_test_hat = model.predict(X1_test)"
   ]
  },
  {
   "cell_type": "code",
   "execution_count": 17,
   "metadata": {},
   "outputs": [
    {
     "name": "stdout",
     "output_type": "stream",
     "text": [
      "Shirt\n"
     ]
    }
   ],
   "source": [
    "class_names = ['T-shirt/top','Trouser','Pullover','Dress','Coat','Sandal','Shirt','Sneaker','Bag','Ankle boot']\n",
    "print(class_names[y_test_hat[4]])"
   ]
  },
  {
   "cell_type": "markdown",
   "metadata": {},
   "source": [
    "### OVERALL SUMMARY:"
   ]
  },
  {
   "cell_type": "raw",
   "metadata": {},
   "source": [
    "MLR\n",
    "The R2 value for test data for this model is around 76.14%.\n",
    "By considering the R2,this model is not recommend to be best for MNIST dataset.\n",
    "\n",
    "Decision tree\n",
    "As the accuracy of decision tree is 75.55%.\n",
    "After considering the F1 score for the different classes <b>0-9 is around 75%-95%\n",
    "As we can see the accuracy just incresed to only 1 % i.e 0.76.Let's try randomizing the decion tree and evaluate the performance of the model.\n",
    "\n",
    "Decision tree - stratified : As we can see the accuracy just incresed to only 1 % i.e 0.76.Let's try randomizing the decion tree and evaluate the performance of the model.\n",
    "Considering the above scores , Random Forest can be considered as one of the suitable model for the prediction of validation dataset.\n",
    "\n",
    "however,\n",
    "\n",
    "knn - As per above result,the f1-score for different classes are in between range 77% - 98%.\n",
    "Next, we must tune the model to improve performance using StratifiedKFold method\n",
    "\n",
    "Also, performed Gaussian Naive bayes and accuracy obtained in this model is 58.7%."
   ]
  },
  {
   "cell_type": "markdown",
   "metadata": {},
   "source": [
    "### EXPLANATION OF TASK2 WORK:"
   ]
  },
  {
   "cell_type": "raw",
   "metadata": {},
   "source": [
    "took 5 new images (shirt, dress, jacket, bag, shoe).\n",
    "resized all of the images shape to (28, 28)\n",
    "grayscaled all the 5 images and visualized it.\n",
    "\n",
    "stored these images in nparray format as X1_test.\n",
    "Chose 2 models, RANDOM FOREST and KNN based on the results discussed/explained above.\n",
    "passed this new data X1_test to these 2 models and ran the algorithm to analyze its prediction.\n",
    "\n",
    "\n",
    "MY UNDERSTANDING:\n",
    "Random forest was able to predict 3 out of 5 classes correctly.\n",
    "Knn model was able to predict 4 out of 5 classes correctly.\n",
    "Knn perfomed better over random forest for the new images tested in both the algorithms.\n",
    "\n",
    "BETTER IMPLEMENTATION OF IMAGES:\n",
    "can try re-running the models with better images scaling same as that with train data set to have accuracy score matched."
   ]
  },
  {
   "cell_type": "raw",
   "metadata": {},
   "source": []
  }
 ],
 "metadata": {
  "kernelspec": {
   "display_name": "Python 3 (ipykernel)",
   "language": "python",
   "name": "python3"
  },
  "language_info": {
   "codemirror_mode": {
    "name": "ipython",
    "version": 3
   },
   "file_extension": ".py",
   "mimetype": "text/x-python",
   "name": "python",
   "nbconvert_exporter": "python",
   "pygments_lexer": "ipython3",
   "version": "3.9.7"
  }
 },
 "nbformat": 4,
 "nbformat_minor": 4
}
